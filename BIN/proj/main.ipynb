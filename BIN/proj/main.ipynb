{
 "cells": [
  {
   "cell_type": "code",
   "execution_count": 1,
   "metadata": {},
   "outputs": [],
   "source": [
    "import os\n",
    "import copy\n",
    "import torch\n",
    "\n",
    "import numpy as np\n",
    "import torch.nn as nn\n",
    "import matplotlib.pyplot as plt\n",
    "import torch.nn.functional as F\n",
    "import torch.nn.utils.prune as prune\n",
    "import torchvision.transforms as transforms\n",
    "\n",
    "from eval import accuracy\n",
    "from model import MnistCNN\n",
    "from train import fit, evaluate\n",
    "from torchvision.datasets import MNIST\n",
    "from torch.utils.data.dataloader import DataLoader\n",
    "from torch.utils.data.sampler import SubsetRandomSampler\n",
    "%matplotlib inline"
   ]
  },
  {
   "cell_type": "code",
   "execution_count": 2,
   "metadata": {},
   "outputs": [],
   "source": [
    "BATCH_SIZE = 100\n",
    "NUM_CLASSES = 10\n",
    "INPUT_SIZE = 28 * 28\n",
    "DATASET = MNIST(root='data/', download=True, train=True, transform=transforms.ToTensor())"
   ]
  },
  {
   "cell_type": "code",
   "execution_count": 3,
   "metadata": {},
   "outputs": [],
   "source": [
    "if torch.cuda.is_available():  \n",
    "    dev = \"cuda:0\" \n",
    "else:  \n",
    "    dev = \"cpu\" \n",
    "\n",
    "def split_indices(n, val_pct):\n",
    "    # Determine size of validation set\n",
    "    n_val = int(val_pct*n)\n",
    "\n",
    "    idxs = np.random.permutation(n)\n",
    "\n",
    "    return idxs[n_val:], idxs[:n_val]\n",
    "\n",
    "train_indexes, validation_indexes = split_indices(len(DATASET), 0.2)\n",
    "\n",
    "train_sampler = SubsetRandomSampler(train_indexes)\n",
    "train_loader = DataLoader(DATASET, BATCH_SIZE, sampler=train_sampler)\n",
    "\n",
    "val_sampler = SubsetRandomSampler(validation_indexes)\n",
    "val_loader = DataLoader(DATASET, BATCH_SIZE, sampler=val_sampler)\n",
    "\n",
    "loss_fun = F.cross_entropy\n",
    "\n",
    "def predict_image(image, model):\n",
    "    xb = image.unsqueeze(0).to(dev)\n",
    "    yb = model(xb)\n",
    "    yb = yb.to(dev)\n",
    "    _, preds = torch.max(yb, dim=1)\n",
    "    return preds[0].item()\n",
    "\n",
    "def plot_graph(rng ,acc_list, lost_list, title):\n",
    "    plt.plot(rng, acc_list, '-b', label='accuracy')\n",
    "    plt.plot(rng, lost_list, '-r', label='loss')\n",
    "    plt.legend(loc='upper left')\n",
    "    plt.xlabel(\"amount pruned\")\n",
    "    plt.title(title)\n",
    "    plt.show()\n"
   ]
  },
  {
   "cell_type": "code",
   "execution_count": 27,
   "metadata": {},
   "outputs": [
    {
     "name": "stdout",
     "output_type": "stream",
     "text": [
      "Epoch 1, loss: 0.1084, accuracy: 0.9677\n",
      "Epoch 2, loss: 0.0766, accuracy: 0.9753\n",
      "Epoch 3, loss: 0.0820, accuracy: 0.9737\n",
      "Epoch 4, loss: 0.0714, accuracy: 0.9793\n",
      "Epoch 5, loss: 0.0730, accuracy: 0.9773\n"
     ]
    }
   ],
   "source": [
    "learning_rate = 0.001\n",
    "\n",
    "model = MnistCNN().to(dev)\n",
    "optimizer = torch.optim.Adam(model.parameters(), lr=learning_rate)\n",
    "fit(5, model, loss_fun, optimizer, train_loader, val_loader, accuracy)"
   ]
  },
  {
   "cell_type": "code",
   "execution_count": 28,
   "metadata": {},
   "outputs": [
    {
     "name": "stdout",
     "output_type": "stream",
     "text": [
      "Loss: 0.0614, accuracy: 0.9800\n"
     ]
    }
   ],
   "source": [
    "test_dataset = MNIST(root='data/', train=False, transform=transforms.ToTensor())\n",
    "test_loader = DataLoader(test_dataset, batch_size=1)\n",
    "test_loss, total, test_acc = evaluate(model, loss_fun, test_loader, metric=accuracy)\n",
    "print(f\"Loss: {test_loss:.4f}, accuracy: {test_acc:.4f}\")"
   ]
  },
  {
   "cell_type": "code",
   "execution_count": 29,
   "metadata": {},
   "outputs": [],
   "source": [
    "activation = {}\n",
    "def get_activation(name):\n",
    "    def hook(model, input, output):\n",
    "        activation[name] = output\n",
    "    return hook\n",
    "\n",
    "for name, module in model.named_children():\n",
    "    module.register_forward_hook(get_activation(name))"
   ]
  },
  {
   "cell_type": "code",
   "execution_count": 30,
   "metadata": {},
   "outputs": [],
   "source": [
    "activation = {}\n",
    "def get_activation(name, input, output):\n",
    "    print(f\"{name} {input[0].shape} {output.shape}\")\n",
    "\n",
    "for name, module in model.named_children():\n",
    "    module.register_forward_hook(get_activation)"
   ]
  },
  {
   "cell_type": "code",
   "execution_count": 79,
   "metadata": {},
   "outputs": [],
   "source": [
    "def LRP_0(model : nn.Module, X):\n",
    "    layers = [module for module in model.named_children() if not isinstance(module, torch.nn.Sequential)]\n",
    "    L = len(layers)\n",
    "    A = [X] + [X] * L \n",
    "    for layer in range(L):\n",
    "        if layers[layer][0] == 'pool1':\n",
    "            pool = nn.MaxPool2d(kernel_size=2, stride=2, padding=0, dilation=1, ceil_mode=False, return_indices=True)\n",
    "            output1, indices1 = pool(A[layer])\n",
    "            A[layer + 1] = output1\n",
    "            continue\n",
    "        if layers[layer][0] == 'pool2':\n",
    "            pool = nn.MaxPool2d(kernel_size=2, stride=2, padding=0, dilation=1, ceil_mode=False, return_indices=True)\n",
    "            output2, indices2 = pool(A[layer])\n",
    "            A[layer + 1] = output2\n",
    "            continue\n",
    "        A[layer + 1] = layers[layer][1].forward(A[layer])\n",
    "\n",
    "    T = A[-1].cpu().detach().numpy().tolist()[0]\n",
    "    index = T.index(max(T))\n",
    "    T = np.abs(np.array(T)) * 0\n",
    "    T[index] = 1\n",
    "    T = torch.FloatTensor(T)\n",
    "    # Create the list of relevances with (L + 1) elements and assign the value of the last one \n",
    "    R = [None] * L + [(A[-1].cpu() * T).data + 1e-6]\n",
    "    for layer in range(0, L)[::-1]:\n",
    "        if layers[layer][0] == 'flatten':\n",
    "            R[layer] = torch.reshape(A[layer], (32,7,7))\n",
    "            continue\n",
    "        if layers[layer][0] == 'pool2':\n",
    "            unpool = nn.MaxUnpool2d(kernel_size=2)\n",
    "            R[layer] = unpool(A[layer+1], indices2)\n",
    "            continue\n",
    "        if layers[layer][0] == 'pool1':\n",
    "            unpool = nn.MaxUnpool2d(kernel_size=2)\n",
    "            R[layer] = unpool(A[layer+1], indices1)\n",
    "            continue\n",
    "        if layers[layer][0] == 'relu1' or layers[layer][0] == 'relu2':\n",
    "            R[layer] = A[layer + 1]\n",
    "            continue\n",
    "        A[layer] = A[layer].data.requires_grad_(True)\n",
    "        z = newlayer(layers[layer][1]).forward(A[layer]) + 1e-9\n",
    "        s = (R[layer+1].to(dev) / z).data\n",
    "        (z * s).sum().backward()\n",
    "        c = A[layer].grad\n",
    "        R[layer] = (A[layer] * c).cpu().data \n",
    "    return R[0]\n",
    "        \n",
    "\n",
    "\n",
    "def newlayer(layer : nn.Module) -> nn.Module:\n",
    "    layer = copy.deepcopy(layer)\n",
    "    layer.weight = torch.nn.Parameter(layer.weight)\n",
    "    layer.bias = torch.nn.Parameter(layer.bias)\n",
    "    return layer"
   ]
  },
  {
   "cell_type": "code",
   "execution_count": 99,
   "metadata": {},
   "outputs": [
    {
     "name": "stdout",
     "output_type": "stream",
     "text": [
      "Conv2d(1, 16, kernel_size=(5, 5), stride=(1, 1), padding=(2, 2)) torch.Size([1, 1, 28, 28]) torch.Size([1, 16, 28, 28])\n",
      "ReLU() torch.Size([1, 16, 28, 28]) torch.Size([1, 16, 28, 28])\n",
      "MaxPool2d(kernel_size=2, stride=2, padding=0, dilation=1, ceil_mode=False) torch.Size([1, 16, 28, 28]) torch.Size([1, 16, 14, 14])\n",
      "Conv2d(16, 32, kernel_size=(5, 5), stride=(1, 1), padding=(2, 2)) torch.Size([1, 16, 14, 14]) torch.Size([1, 32, 14, 14])\n",
      "ReLU() torch.Size([1, 32, 14, 14]) torch.Size([1, 32, 14, 14])\n",
      "MaxPool2d(kernel_size=2, stride=2, padding=0, dilation=1, ceil_mode=False) torch.Size([1, 32, 14, 14]) torch.Size([1, 32, 7, 7])\n",
      "Flatten(start_dim=1, end_dim=-1) torch.Size([1, 32, 7, 7]) torch.Size([1, 1568])\n",
      "Linear(in_features=1568, out_features=10, bias=True) torch.Size([1, 1568]) torch.Size([1, 10])\n",
      "torch.Size([1, 1, 28, 28])\n",
      "torch.Size([1, 28, 28])\n"
     ]
    },
    {
     "ename": "RuntimeError",
     "evalue": "permute(sparse_coo): number of dimensions in the tensor input does not match the length of the desired ordering of dimensions i.e. input.dim() = 2 is not equal to len(dims) = 3",
     "output_type": "error",
     "traceback": [
      "\u001b[0;31m---------------------------------------------------------------------------\u001b[0m",
      "\u001b[0;31mRuntimeError\u001b[0m                              Traceback (most recent call last)",
      "Cell \u001b[0;32mIn[99], line 9\u001b[0m\n\u001b[1;32m      7\u001b[0m lrp \u001b[39m=\u001b[39m LRP_0(model, image\u001b[39m.\u001b[39mto(dev))[\u001b[39m0\u001b[39m]\n\u001b[1;32m      8\u001b[0m \u001b[39mprint\u001b[39m(lrp\u001b[39m.\u001b[39mshape)\n\u001b[0;32m----> 9\u001b[0m img \u001b[39m=\u001b[39m lrp\u001b[39m.\u001b[39;49msqueeze(\u001b[39m0\u001b[39;49m)\u001b[39m.\u001b[39;49mpermute(\u001b[39m1\u001b[39;49m,\u001b[39m2\u001b[39;49m,\u001b[39m0\u001b[39;49m)\u001b[39m.\u001b[39mnumpy()\n\u001b[1;32m     10\u001b[0m plt\u001b[39m.\u001b[39mfigure()\n\u001b[1;32m     11\u001b[0m plt\u001b[39m.\u001b[39mimshow(img)\n",
      "\u001b[0;31mRuntimeError\u001b[0m: permute(sparse_coo): number of dimensions in the tensor input does not match the length of the desired ordering of dimensions i.e. input.dim() = 2 is not equal to len(dims) = 3"
     ]
    },
    {
     "data": {
      "image/png": "[encoded data removed]",
      "text/plain": [
       "<Figure size 640x480 with 1 Axes>"
      ]
     },
     "metadata": {},
     "output_type": "display_data"
    }
   ],
   "source": [
    "test_loader = DataLoader(test_dataset, batch_size=1, shuffle=True)\n",
    "image, label = next(iter(test_loader))\n",
    "model(image.to(dev))\n",
    "print(image.shape)\n",
    "img = image.squeeze(0).permute(1,2,0).numpy()\n",
    "plt.imshow(img)\n",
    "lrp = LRP_0(model, image.to(dev))\n",
    "print(lrp.shape)\n",
    "img = lrp.squeeze(0).permute(1,2,0).numpy()\n",
    "plt.figure()\n",
    "plt.imshow(img)"
   ]
  },
  {
   "cell_type": "code",
   "execution_count": null,
   "metadata": {},
   "outputs": [],
   "source": []
  },
  {
   "cell_type": "code",
   "execution_count": null,
   "metadata": {},
   "outputs": [],
   "source": []
  }
 ],
 "metadata": {
  "kernelspec": {
   "display_name": "Python 3.10.10 64-bit",
   "language": "python",
   "name": "python3"
  },
  "language_info": {
   "codemirror_mode": {
    "name": "ipython",
    "version": 3
   },
   "file_extension": ".py",
   "mimetype": "text/x-python",
   "name": "python",
   "nbconvert_exporter": "python",
   "pygments_lexer": "ipython3",
   "version": "3.10.10"
  },
  "orig_nbformat": 4,
  "vscode": {
   "interpreter": {
    "hash": "eda7e54fe21129b67f77862937907ee926f057597a3e2fa1e18ac955e40912b3"
   }
  }
 },
 "nbformat": 4,
 "nbformat_minor": 2
}
