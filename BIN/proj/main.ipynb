{
 "cells": [
  {
   "cell_type": "code",
   "execution_count": 1,
   "metadata": {},
   "outputs": [],
   "source": [
    "import os\n",
    "import copy\n",
    "import torch\n",
    "\n",
    "import numpy as np\n",
    "import torch.nn as nn\n",
    "import matplotlib.pyplot as plt\n",
    "import torch.nn.functional as F\n",
    "import torch.nn.utils.prune as prune\n",
    "import torchvision.transforms as transforms\n",
    "\n",
    "from eval import accuracy\n",
    "from model import MnistCNN\n",
    "from train import fit, evaluate\n",
    "from torchvision.datasets import MNIST\n",
    "from torch.utils.data.dataloader import DataLoader\n",
    "from torch.utils.data.sampler import SubsetRandomSampler\n",
    "%matplotlib inline"
   ]
  },
  {
   "cell_type": "code",
   "execution_count": 2,
   "metadata": {},
   "outputs": [],
   "source": [
    "BATCH_SIZE = 100\n",
    "NUM_CLASSES = 10\n",
    "INPUT_SIZE = 28 * 28\n",
    "DATASET = MNIST(root='data/', download=True, train=True, transform=transforms.ToTensor())"
   ]
  },
  {
   "cell_type": "code",
   "execution_count": 3,
   "metadata": {},
   "outputs": [],
   "source": [
    "if torch.cuda.is_available():  \n",
    "    dev = \"cuda:0\" \n",
    "else:  \n",
    "    dev = \"cpu\" \n",
    "\n",
    "def split_indices(n, val_pct):\n",
    "    # Determine size of validation set\n",
    "    n_val = int(val_pct*n)\n",
    "\n",
    "    idxs = np.random.permutation(n)\n",
    "\n",
    "    return idxs[n_val:], idxs[:n_val]\n",
    "\n",
    "train_indexes, validation_indexes = split_indices(len(DATASET), 0.2)\n",
    "\n",
    "train_sampler = SubsetRandomSampler(train_indexes)\n",
    "train_loader = DataLoader(DATASET, BATCH_SIZE, sampler=train_sampler)\n",
    "\n",
    "val_sampler = SubsetRandomSampler(validation_indexes)\n",
    "val_loader = DataLoader(DATASET, BATCH_SIZE, sampler=val_sampler)\n",
    "\n",
    "loss_fun = F.cross_entropy\n",
    "\n",
    "def predict_image(image, model):\n",
    "    xb = image.unsqueeze(0).to(dev)\n",
    "    yb = model(xb)\n",
    "    yb = yb.to(dev)\n",
    "    _, preds = torch.max(yb, dim=1)\n",
    "    return preds[0].item()"
   ]
  },
  {
   "cell_type": "code",
   "execution_count": 14,
   "metadata": {},
   "outputs": [
    {
     "name": "stdout",
     "output_type": "stream",
     "text": [
      "Epoch 1, loss: 0.3038, accuracy: 0.9106\n",
      "Epoch 2, loss: 0.1961, accuracy: 0.9415\n",
      "Epoch 3, loss: 0.1523, accuracy: 0.9550\n",
      "Epoch 4, loss: 0.1301, accuracy: 0.9603\n",
      "Epoch 5, loss: 0.1175, accuracy: 0.9638\n",
      "Epoch 6, loss: 0.1084, accuracy: 0.9662\n",
      "Epoch 7, loss: 0.0971, accuracy: 0.9708\n",
      "Epoch 8, loss: 0.0940, accuracy: 0.9704\n",
      "Epoch 9, loss: 0.0879, accuracy: 0.9734\n",
      "Epoch 10, loss: 0.0866, accuracy: 0.9746\n",
      "Epoch 11, loss: 0.0795, accuracy: 0.9764\n",
      "Epoch 12, loss: 0.0770, accuracy: 0.9771\n",
      "Epoch 13, loss: 0.0756, accuracy: 0.9770\n",
      "Epoch 14, loss: 0.0753, accuracy: 0.9773\n",
      "Epoch 15, loss: 0.0756, accuracy: 0.9764\n",
      "Epoch 16, loss: 0.0689, accuracy: 0.9794\n",
      "Epoch 17, loss: 0.0680, accuracy: 0.9795\n",
      "Epoch 18, loss: 0.0694, accuracy: 0.9781\n",
      "Epoch 19, loss: 0.0656, accuracy: 0.9806\n",
      "Epoch 20, loss: 0.0663, accuracy: 0.9805\n"
     ]
    }
   ],
   "source": [
    "learning_rate = 0.0001\n",
    "\n",
    "model = MnistCNN().to(dev)\n",
    "optimizer = torch.optim.Adam(model.parameters(), lr=learning_rate)\n",
    "fit(20, model, loss_fun, optimizer, train_loader, val_loader, accuracy)"
   ]
  },
  {
   "cell_type": "code",
   "execution_count": 15,
   "metadata": {},
   "outputs": [
    {
     "name": "stdout",
     "output_type": "stream",
     "text": [
      "Loss: 0.0552, accuracy: 0.9832\n"
     ]
    }
   ],
   "source": [
    "test_dataset = MNIST(root='data/', train=False, transform=transforms.ToTensor())\n",
    "test_loader = DataLoader(test_dataset, batch_size=1)\n",
    "test_loss, total, test_acc = evaluate(model, loss_fun, test_loader, metric=accuracy)\n",
    "print(f\"Loss: {test_loss:.4f}, accuracy: {test_acc:.4f}\")"
   ]
  },
  {
   "cell_type": "code",
   "execution_count": 28,
   "metadata": {},
   "outputs": [],
   "source": [
    "# Helper functions to measur sparsity of a model\n",
    "def measure_module_sparsity(module, weight=True, bias=False, use_mask=False):\n",
    "    num_zeros = 0\n",
    "    num_elements = 0\n",
    "    if use_mask == True:\n",
    "        for buffer_name, buffer in module.named_buffers():\n",
    "            if \"weight_mask\" in buffer_name and weight == True:\n",
    "                num_zeros += torch.sum(buffer == 0).item()\n",
    "                num_elements += buffer.nelement()\n",
    "            if \"bias_mask\" in buffer_name and bias == True:\n",
    "                num_zeros += torch.sum(buffer == 0).item()\n",
    "                num_elements += buffer.nelement()\n",
    "    else:\n",
    "        for param_name, param in module.named_parameters():\n",
    "            if \"weight\" in param_name and weight == True:\n",
    "                num_zeros += torch.sum(param == 0).item()\n",
    "                num_elements += param.nelement()\n",
    "            if \"bias\" in param_name and bias == True:\n",
    "                num_zeros += torch.sum(param == 0).item()\n",
    "                num_elements += param.nelement()\n",
    "    sparsity = num_zeros / num_elements\n",
    "    return num_zeros, num_elements, sparsity\n",
    "\n",
    "def measure_global_sparsity(model, weight=True, bias=False, conv2d_use_mask=False, linear_use_mask=False):\n",
    "    num_zeros = 0\n",
    "    num_elements = 0\n",
    "    for module_name, module in model.named_modules():\n",
    "        if isinstance(module, torch.nn.Conv2d):\n",
    "            module_num_zeros, module_num_elements, _ = measure_module_sparsity(module, weight=weight, bias=bias, use_mask=conv2d_use_mask)\n",
    "            num_zeros += module_num_zeros\n",
    "            num_elements += module_num_elements\n",
    "\n",
    "        elif isinstance(module, torch.nn.Linear):\n",
    "            module_num_zeros, module_num_elements, _ = measure_module_sparsity(module, weight=weight, bias=bias, use_mask=linear_use_mask)\n",
    "            num_zeros += module_num_zeros\n",
    "            num_elements += module_num_elements\n",
    "    sparsity = num_zeros / num_elements\n",
    "    return num_zeros, num_elements, sparsity"
   ]
  },
  {
   "cell_type": "code",
   "execution_count": 16,
   "metadata": {},
   "outputs": [],
   "source": [
    "def LRP_0(model : nn.Module, X):\n",
    "    layers = [module for module in model.named_children() if not isinstance(module, torch.nn.Sequential)]\n",
    "    L = len(layers)\n",
    "    A = [X] + [X] * L\n",
    "    # compute forward activations of NN\n",
    "    for layer in range(L):\n",
    "        if layers[layer][0] == 'pool1':\n",
    "            pool = nn.MaxPool2d(kernel_size=2, stride=2, padding=0, dilation=1, ceil_mode=False, return_indices=True)\n",
    "            output1, indices1 = pool(A[layer])\n",
    "            A[layer + 1] = output1\n",
    "            continue\n",
    "        if layers[layer][0] == 'pool2':\n",
    "            pool = nn.MaxPool2d(kernel_size=2, stride=2, padding=0, dilation=1, ceil_mode=False, return_indices=True)\n",
    "            output2, indices2 = pool(A[layer])\n",
    "            A[layer + 1] = output2\n",
    "            continue\n",
    "        A[layer + 1] = layers[layer][1].forward(A[layer])\n",
    "\n",
    "    T = A[-1].cpu().detach().numpy().tolist()[0]\n",
    "    index = T.index(max(T))\n",
    "    T = np.abs(np.array(T)) * 0\n",
    "    T[index] = 1\n",
    "    T = torch.FloatTensor(T)\n",
    "    R = [None] * L + [(A[-1].cpu() * T).data + 1e-6]\n",
    "    # do a backward to get relevance of neurons\n",
    "    # plase dont mind the if statements, I wasnt able to\n",
    "    # make it more generic\n",
    "    for layer in range(0, L)[::-1]:\n",
    "        if layers[layer][0] == 'flatten':\n",
    "            R[layer] = torch.reshape(A[layer], (32,7,7))\n",
    "            continue\n",
    "        if layers[layer][0] == 'pool2':\n",
    "            unpool = nn.MaxUnpool2d(kernel_size=2)\n",
    "            R[layer] = unpool(A[layer+1], indices2)\n",
    "            continue\n",
    "        if layers[layer][0] == 'pool1':\n",
    "            unpool = nn.MaxUnpool2d(kernel_size=2)\n",
    "            R[layer] = unpool(A[layer+1], indices1)\n",
    "            continue\n",
    "        if layers[layer][0] == 'relu1' or layers[layer][0] == 'relu2':\n",
    "            R[layer] = A[layer + 1]\n",
    "            continue\n",
    "        A[layer] = A[layer].data.requires_grad_(True)\n",
    "        z = newlayer(layers[layer][1]).forward(A[layer]) + 1e-9\n",
    "        s = (R[layer+1].to(dev) / z).data\n",
    "        (z * s).sum().backward()\n",
    "        c = A[layer].grad\n",
    "        R[layer] = (A[layer] * c).cpu().data \n",
    "    return R[0], R, L\n",
    "        \n",
    "# Create copy of a layer\n",
    "def newlayer(layer : nn.Module) -> nn.Module:\n",
    "    layer = copy.deepcopy(layer)\n",
    "    layer.weight = torch.nn.Parameter(layer.weight)\n",
    "    layer.bias = torch.nn.Parameter(layer.bias)\n",
    "    return layer"
   ]
  },
  {
   "cell_type": "code",
   "execution_count": 17,
   "metadata": {},
   "outputs": [
    {
     "data": {
      "text/plain": [
       "<matplotlib.image.AxesImage at 0x1beff6035e0>"
      ]
     },
     "execution_count": 17,
     "metadata": {},
     "output_type": "execute_result"
    },
    {
     "data": {
      "image/png": "[encoded data removed]",
      "text/plain": [
       "<Figure size 640x480 with 1 Axes>"
      ]
     },
     "metadata": {},
     "output_type": "display_data"
    }
   ],
   "source": [
    "# Iterate throught the test data and collect relevance of neurons\n",
    "test_loader = DataLoader(test_dataset, batch_size=1, shuffle=True)\n",
    "image, label = next(iter(test_loader))\n",
    "model(image.to(dev))\n",
    "lrp_0, lrp, layers_len = LRP_0(model, image.to(dev))\n",
    "\n",
    "for image, label in test_loader:\n",
    "    out1, out2, _ = LRP_0(model, image.to(dev))\n",
    "    lrp_0 += out1\n",
    "    lrp += out2\n",
    "\n",
    "img = lrp_0.squeeze(0).permute(1,2,0).numpy()\n",
    "plt.imshow(img)"
   ]
  },
  {
   "cell_type": "code",
   "execution_count": 24,
   "metadata": {},
   "outputs": [],
   "source": [
    "# Based on the relevance, prune the weights in the convs and linear layers\n",
    "# This is not very generic and I would like to spend some time after the exams\n",
    "# to make it as generic as possible\n",
    "# Please dont mind the l1_unstructered pruning, it just creates named buffer \n",
    "# for the weights mask, which gets then replaced by the mask computed from the LRP\n",
    "def prune_by_LRP(model : nn.Module, lrp, threshold_conv=10, threshold_fc_lower=-1e-5, threshold_fc_higher=1e-5):\n",
    "    model_copy = copy.deepcopy(model)\n",
    "    np_arr = lrp[1].cpu().data.numpy()\n",
    "    indexes = []\n",
    "    for x in range(np_arr.shape[1]):\n",
    "        relevance_sum = np.sum(np_arr[0][x])\n",
    "        if relevance_sum < threshold_conv:\n",
    "            indexes.append(x)\n",
    "    a = np.ones((model_copy.conv1.out_channels, model_copy.conv1.in_channels, model_copy.conv1.weight[0].shape[1], model_copy.conv1.weight[0].shape[2]))\n",
    "    a[indexes] = np.zeros((model_copy.conv1.in_channels, model_copy.conv1.weight[0].shape[1], model_copy.conv1.weight[0].shape[2]))\n",
    "    prune.l1_unstructured(model_copy.conv1, name='weight', amount=0.0)\n",
    "    with torch.no_grad():\n",
    "        prune.custom_from_mask(model_copy.conv1, name='weight', mask=torch.Tensor(a).to(dev))\n",
    "\n",
    "    np_arr = lrp[4].cpu().data.numpy()\n",
    "    indexes = []\n",
    "    for x in range(np_arr.shape[1]):\n",
    "        relevance_sum = np.sum(np_arr[0][x])\n",
    "        if relevance_sum < threshold_conv:\n",
    "            indexes.append(x)\n",
    "    a = np.ones((model_copy.conv2.out_channels, model_copy.conv2.in_channels, model_copy.conv2.weight[0].shape[1], model_copy.conv2.weight[0].shape[2]))\n",
    "    a[indexes] = np.zeros((model_copy.conv2.in_channels, model_copy.conv2.weight[0].shape[1], model_copy.conv2.weight[0].shape[2]))\n",
    "    prune.l1_unstructured(model_copy.conv2, name='weight', amount=0.0)\n",
    "    with torch.no_grad():\n",
    "        prune.custom_from_mask(model_copy.conv2, name='weight', mask=torch.Tensor(a).to(dev))\n",
    "\n",
    "    np_arr = lrp[-2].cpu().data.numpy()\n",
    "    indexes = []\n",
    "    for x in range(np_arr.shape[1]):\n",
    "        relevance_sum = np.sum(np_arr[0][x])\n",
    "        if relevance_sum > threshold_fc_lower and relevance_sum < threshold_fc_higher:\n",
    "            indexes.append(x)\n",
    "    prune.l1_unstructured(model_copy.out, name='weight', amount=0.0)\n",
    "    a = np.ones((list(model_copy.out.named_buffers())[0][1].shape[1]))\n",
    "    a[indexes] = 0\n",
    "    a = np.array([a] * 10)\n",
    "    with torch.no_grad():\n",
    "        prune.custom_from_mask(model_copy.out, name='weight', mask=torch.Tensor(a).to(dev))\n",
    "    return model_copy"
   ]
  },
  {
   "cell_type": "code",
   "execution_count": 36,
   "metadata": {},
   "outputs": [
    {
     "name": "stdout",
     "output_type": "stream",
     "text": [
      "Sparsity of a pruned model: 0.1524\n",
      "Loss: 0.1682, accuracy: 0.9457\n",
      "Epoch 1, loss: 0.0786, accuracy: 0.9752\n",
      "Epoch 2, loss: 0.0788, accuracy: 0.9763\n",
      "Loss: 0.0675, accuracy: 0.9789\n"
     ]
    }
   ],
   "source": [
    "pruned_model = prune_by_LRP(model, lrp, 5)\n",
    "test_loader = DataLoader(test_dataset, batch_size=16)\n",
    "print(f\"Sparsity of a pruned model: {measure_global_sparsity(pruned_model, True, False, True, True)[-1]:.4f}\")\n",
    "test_loss, total, test_acc = evaluate(pruned_model, loss_fun, test_loader, metric=accuracy)\n",
    "print(f\"Loss: {test_loss:.4f}, accuracy: {test_acc:.4f}\")\n",
    "\n",
    "# Perform a finetuning of a pruned network\n",
    "optimizer = torch.optim.Adam(pruned_model.parameters(), lr=learning_rate)\n",
    "fit(2, pruned_model, loss_fun, optimizer, train_loader, val_loader, accuracy)\n",
    "\n",
    "test_loss, total, test_acc = evaluate(pruned_model, loss_fun, test_loader, metric=accuracy)\n",
    "print(f\"Loss: {test_loss:.4f}, accuracy: {test_acc:.4f}\")"
   ]
  },
  {
   "cell_type": "code",
   "execution_count": 37,
   "metadata": {},
   "outputs": [
    {
     "name": "stdout",
     "output_type": "stream",
     "text": [
      "Sparsity of a pruned model: 0.3722\n",
      "Loss: 2.2596, accuracy: 0.5320\n",
      "Epoch 1, loss: 0.1313, accuracy: 0.9603\n",
      "Epoch 2, loss: 0.1107, accuracy: 0.9673\n",
      "Loss: 0.0974, accuracy: 0.9706\n"
     ]
    }
   ],
   "source": [
    "pruned_model = prune_by_LRP(model, lrp, 5, threshold_fc_lower=-1e-1, threshold_fc_higher=1e-1)\n",
    "print(f\"Sparsity of a pruned model: {measure_global_sparsity(pruned_model, True, False, True, True)[-1]:.4f}\")\n",
    "\n",
    "test_loss, total, test_acc = evaluate(pruned_model, loss_fun, test_loader, metric=accuracy)\n",
    "print(f\"Loss: {test_loss:.4f}, accuracy: {test_acc:.4f}\")\n",
    "\n",
    "# Perform a finetuning of a pruned network\n",
    "optimizer = torch.optim.Adam(pruned_model.parameters(), lr=learning_rate)\n",
    "fit(2, pruned_model, loss_fun, optimizer, train_loader, val_loader, accuracy)\n",
    "\n",
    "test_loss, total, test_acc = evaluate(pruned_model, loss_fun, test_loader, metric=accuracy)\n",
    "print(f\"Loss: {test_loss:.4f}, accuracy: {test_acc:.4f}\")"
   ]
  },
  {
   "cell_type": "code",
   "execution_count": 38,
   "metadata": {},
   "outputs": [
    {
     "name": "stdout",
     "output_type": "stream",
     "text": [
      "Sparsity of a pruned model: 0.2355\n",
      "Loss: 0.2423, accuracy: 0.9184\n",
      "Epoch 1, loss: 0.0899, accuracy: 0.9721\n",
      "Epoch 2, loss: 0.0812, accuracy: 0.9757\n",
      "Loss: 0.0742, accuracy: 0.9778\n"
     ]
    }
   ],
   "source": [
    "pruned_model = prune_by_LRP(model, lrp, 10)\n",
    "print(f\"Sparsity of a pruned model: {measure_global_sparsity(pruned_model, True, False, True, True)[-1]:.4f}\")\n",
    "\n",
    "test_loss, total, test_acc = evaluate(pruned_model, loss_fun, test_loader, metric=accuracy)\n",
    "print(f\"Loss: {test_loss:.4f}, accuracy: {test_acc:.4f}\")\n",
    "\n",
    "# Perform a finetuning of a pruned network\n",
    "optimizer = torch.optim.Adam(pruned_model.parameters(), lr=learning_rate)\n",
    "fit(2, pruned_model, loss_fun, optimizer, train_loader, val_loader, accuracy)\n",
    "\n",
    "test_loss, total, test_acc = evaluate(pruned_model, loss_fun, test_loader, metric=accuracy)\n",
    "print(f\"Loss: {test_loss:.4f}, accuracy: {test_acc:.4f}\")"
   ]
  },
  {
   "cell_type": "code",
   "execution_count": 39,
   "metadata": {},
   "outputs": [
    {
     "name": "stdout",
     "output_type": "stream",
     "text": [
      "Sparsity of a pruned model: 0.4553\n",
      "Loss: 2.3498, accuracy: 0.4673\n",
      "Epoch 1, loss: 0.1563, accuracy: 0.9543\n",
      "Epoch 2, loss: 0.1227, accuracy: 0.9637\n",
      "Loss: 0.1136, accuracy: 0.9672\n"
     ]
    }
   ],
   "source": [
    "pruned_model = prune_by_LRP(model, lrp, 10, threshold_fc_lower=-1e-1, threshold_fc_higher=1e-1)\n",
    "print(f\"Sparsity of a pruned model: {measure_global_sparsity(pruned_model, True, False, True, True)[-1]:.4f}\")\n",
    "\n",
    "test_loss, total, test_acc = evaluate(pruned_model, loss_fun, test_loader, metric=accuracy)\n",
    "print(f\"Loss: {test_loss:.4f}, accuracy: {test_acc:.4f}\")\n",
    "\n",
    "# Perform a finetuning of a pruned network\n",
    "optimizer = torch.optim.Adam(pruned_model.parameters(), lr=learning_rate)\n",
    "fit(2, pruned_model, loss_fun, optimizer, train_loader, val_loader, accuracy)\n",
    "\n",
    "test_loss, total, test_acc = evaluate(pruned_model, loss_fun, test_loader, metric=accuracy)\n",
    "print(f\"Loss: {test_loss:.4f}, accuracy: {test_acc:.4f}\")"
   ]
  },
  {
   "cell_type": "code",
   "execution_count": 40,
   "metadata": {},
   "outputs": [
    {
     "name": "stdout",
     "output_type": "stream",
     "text": [
      "Sparsity of a pruned model: 0.2909\n",
      "Loss: 0.5474, accuracy: 0.8164\n",
      "Epoch 1, loss: 0.1097, accuracy: 0.9670\n",
      "Epoch 2, loss: 0.0998, accuracy: 0.9701\n",
      "Loss: 0.0905, accuracy: 0.9726\n"
     ]
    }
   ],
   "source": [
    "pruned_model = prune_by_LRP(model, lrp, 15)\n",
    "print(f\"Sparsity of a pruned model: {measure_global_sparsity(pruned_model, True, False, True, True)[-1]:.4f}\")\n",
    "\n",
    "test_loss, total, test_acc = evaluate(pruned_model, loss_fun, test_loader, metric=accuracy)\n",
    "print(f\"Loss: {test_loss:.4f}, accuracy: {test_acc:.4f}\")\n",
    "\n",
    "# Perform a finetuning of a pruned network\n",
    "optimizer = torch.optim.Adam(pruned_model.parameters(), lr=learning_rate)\n",
    "fit(2, pruned_model, loss_fun, optimizer, train_loader, val_loader, accuracy)\n",
    "\n",
    "test_loss, total, test_acc = evaluate(pruned_model, loss_fun, test_loader, metric=accuracy)\n",
    "print(f\"Loss: {test_loss:.4f}, accuracy: {test_acc:.4f}\")"
   ]
  },
  {
   "cell_type": "code",
   "execution_count": 41,
   "metadata": {},
   "outputs": [
    {
     "name": "stdout",
     "output_type": "stream",
     "text": [
      "Sparsity of a pruned model: 0.5107\n",
      "Loss: 2.5187, accuracy: 0.4765\n",
      "Epoch 1, loss: 0.1750, accuracy: 0.9487\n",
      "Epoch 2, loss: 0.1394, accuracy: 0.9603\n",
      "Loss: 0.1287, accuracy: 0.9640\n"
     ]
    }
   ],
   "source": [
    "pruned_model = prune_by_LRP(model, lrp, 15, threshold_fc_lower=-1e-1, threshold_fc_higher=1e-1)\n",
    "print(f\"Sparsity of a pruned model: {measure_global_sparsity(pruned_model, True, False, True, True)[-1]:.4f}\")\n",
    "\n",
    "test_loss, total, test_acc = evaluate(pruned_model, loss_fun, test_loader, metric=accuracy)\n",
    "print(f\"Loss: {test_loss:.4f}, accuracy: {test_acc:.4f}\")\n",
    "\n",
    "# Perform a finetuning of a pruned network\n",
    "optimizer = torch.optim.Adam(pruned_model.parameters(), lr=learning_rate)\n",
    "fit(2, pruned_model, loss_fun, optimizer, train_loader, val_loader, accuracy)\n",
    "\n",
    "test_loss, total, test_acc = evaluate(pruned_model, loss_fun, test_loader, metric=accuracy)\n",
    "print(f\"Loss: {test_loss:.4f}, accuracy: {test_acc:.4f}\")"
   ]
  },
  {
   "cell_type": "code",
   "execution_count": null,
   "metadata": {},
   "outputs": [],
   "source": []
  }
 ],
 "metadata": {
  "kernelspec": {
   "display_name": "Python 3.10.10 64-bit",
   "language": "python",
   "name": "python3"
  },
  "language_info": {
   "codemirror_mode": {
    "name": "ipython",
    "version": 3
   },
   "file_extension": ".py",
   "mimetype": "text/x-python",
   "name": "python",
   "nbconvert_exporter": "python",
   "pygments_lexer": "ipython3",
   "version": "3.10.0"
  },
  "orig_nbformat": 4,
  "vscode": {
   "interpreter": {
    "hash": "eda7e54fe21129b67f77862937907ee926f057597a3e2fa1e18ac955e40912b3"
   }
  }
 },
 "nbformat": 4,
 "nbformat_minor": 2
}
