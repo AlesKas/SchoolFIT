{
 "cells": [
  {
   "cell_type": "code",
   "execution_count": 1,
   "metadata": {},
   "outputs": [],
   "source": [
    "import os\n",
    "import copy\n",
    "import torch\n",
    "\n",
    "import numpy as np\n",
    "import torch.nn as nn\n",
    "import matplotlib.pyplot as plt\n",
    "import torch.nn.functional as F\n",
    "import torch.nn.utils.prune as prune\n",
    "import torchvision.transforms as transforms\n",
    "\n",
    "from eval import accuracy\n",
    "from model import MnistCNN\n",
    "from train import fit, evaluate\n",
    "from torchvision.datasets import MNIST\n",
    "from torch.utils.data.dataloader import DataLoader\n",
    "from torch.utils.data.sampler import SubsetRandomSampler\n",
    "%matplotlib inline"
   ]
  },
  {
   "cell_type": "code",
   "execution_count": 2,
   "metadata": {},
   "outputs": [],
   "source": [
    "BATCH_SIZE = 100\n",
    "NUM_CLASSES = 10\n",
    "INPUT_SIZE = 28 * 28\n",
    "DATASET = MNIST(root='data/', download=True, train=True, transform=transforms.ToTensor())"
   ]
  },
  {
   "cell_type": "code",
   "execution_count": 3,
   "metadata": {},
   "outputs": [],
   "source": [
    "if torch.cuda.is_available():  \n",
    "    dev = \"cuda:0\" \n",
    "else:  \n",
    "    dev = \"cpu\" \n",
    "\n",
    "def split_indices(n, val_pct):\n",
    "    # Determine size of validation set\n",
    "    n_val = int(val_pct*n)\n",
    "\n",
    "    idxs = np.random.permutation(n)\n",
    "\n",
    "    return idxs[n_val:], idxs[:n_val]\n",
    "\n",
    "train_indexes, validation_indexes = split_indices(len(DATASET), 0.2)\n",
    "\n",
    "train_sampler = SubsetRandomSampler(train_indexes)\n",
    "train_loader = DataLoader(DATASET, BATCH_SIZE, sampler=train_sampler)\n",
    "\n",
    "val_sampler = SubsetRandomSampler(validation_indexes)\n",
    "val_loader = DataLoader(DATASET, BATCH_SIZE, sampler=val_sampler)\n",
    "\n",
    "loss_fun = F.cross_entropy\n",
    "\n",
    "def predict_image(image, model):\n",
    "    xb = image.unsqueeze(0).to(dev)\n",
    "    yb = model(xb)\n",
    "    yb = yb.to(dev)\n",
    "    _, preds = torch.max(yb, dim=1)\n",
    "    return preds[0].item()\n",
    "\n",
    "def plot_graph(rng ,acc_list, lost_list, title):\n",
    "    plt.plot(rng, acc_list, '-b', label='accuracy')\n",
    "    plt.plot(rng, lost_list, '-r', label='loss')\n",
    "    plt.legend(loc='upper left')\n",
    "    plt.xlabel(\"amount pruned\")\n",
    "    plt.title(title)\n",
    "    plt.show()\n"
   ]
  },
  {
   "cell_type": "code",
   "execution_count": 4,
   "metadata": {},
   "outputs": [
    {
     "name": "stdout",
     "output_type": "stream",
     "text": [
      "Epoch 1, loss: 0.1188, accuracy: 0.9626\n",
      "Epoch 2, loss: 0.0809, accuracy: 0.9739\n"
     ]
    }
   ],
   "source": [
    "learning_rate = 0.005\n",
    "\n",
    "model = MnistCNN().to(dev)\n",
    "optimizer = torch.optim.Adam(model.parameters(), lr=learning_rate)\n",
    "fit(2, model, loss_fun, optimizer, train_loader, val_loader, accuracy)"
   ]
  },
  {
   "cell_type": "code",
   "execution_count": 5,
   "metadata": {},
   "outputs": [
    {
     "name": "stdout",
     "output_type": "stream",
     "text": [
      "Loss: 0.0816, accuracy: 0.9735\n"
     ]
    }
   ],
   "source": [
    "test_dataset = MNIST(root='data/', train=False, transform=transforms.ToTensor())\n",
    "test_loader = DataLoader(test_dataset, batch_size=1)\n",
    "test_loss, total, test_acc = evaluate(model, loss_fun, test_loader, metric=accuracy)\n",
    "print(f\"Loss: {test_loss:.4f}, accuracy: {test_acc:.4f}\")"
   ]
  },
  {
   "cell_type": "code",
   "execution_count": 29,
   "metadata": {},
   "outputs": [],
   "source": [
    "# activation = {}\n",
    "# def get_activation(name):\n",
    "#     def hook(model, input, output):\n",
    "#         activation[name] = output\n",
    "#     return hook\n",
    "\n",
    "# for name, module in model.named_children():\n",
    "#     module.register_forward_hook(get_activation(name))"
   ]
  },
  {
   "cell_type": "code",
   "execution_count": 30,
   "metadata": {},
   "outputs": [],
   "source": [
    "# activation = {}\n",
    "# def get_activation(name, input, output):\n",
    "#     print(f\"{name} {input[0].shape} {output.shape}\")\n",
    "\n",
    "# for name, module in model.named_children():\n",
    "#     module.register_forward_hook(get_activation)"
   ]
  },
  {
   "cell_type": "code",
   "execution_count": 17,
   "metadata": {},
   "outputs": [],
   "source": [
    "def LRP_0(model : nn.Module, X):\n",
    "    layers = [module for module in model.named_children() if not isinstance(module, torch.nn.Sequential)]\n",
    "    L = len(layers)\n",
    "    A = [X] + [X] * L\n",
    "    # compute forward activations of NN\n",
    "    for layer in range(L):\n",
    "        if layers[layer][0] == 'pool1':\n",
    "            pool = nn.MaxPool2d(kernel_size=2, stride=2, padding=0, dilation=1, ceil_mode=False, return_indices=True)\n",
    "            output1, indices1 = pool(A[layer])\n",
    "            A[layer + 1] = output1\n",
    "            continue\n",
    "        if layers[layer][0] == 'pool2':\n",
    "            pool = nn.MaxPool2d(kernel_size=2, stride=2, padding=0, dilation=1, ceil_mode=False, return_indices=True)\n",
    "            output2, indices2 = pool(A[layer])\n",
    "            A[layer + 1] = output2\n",
    "            continue\n",
    "        A[layer + 1] = layers[layer][1].forward(A[layer])\n",
    "\n",
    "    T = A[-1].cpu().detach().numpy().tolist()[0]\n",
    "    index = T.index(max(T))\n",
    "    T = np.abs(np.array(T)) * 0\n",
    "    T[index] = 1\n",
    "    T = torch.FloatTensor(T)\n",
    "    R = [None] * L + [(A[-1].cpu() * T).data + 1e-6]\n",
    "    # do a backward to get relevance of neurons\n",
    "    # plase dont mind the if statements, I wasnt able to\n",
    "    # make it more generic\n",
    "    for layer in range(0, L)[::-1]:\n",
    "        if layers[layer][0] == 'flatten':\n",
    "            R[layer] = torch.reshape(A[layer], (32,7,7))\n",
    "            continue\n",
    "        if layers[layer][0] == 'pool2':\n",
    "            unpool = nn.MaxUnpool2d(kernel_size=2)\n",
    "            R[layer] = unpool(A[layer+1], indices2)\n",
    "            continue\n",
    "        if layers[layer][0] == 'pool1':\n",
    "            unpool = nn.MaxUnpool2d(kernel_size=2)\n",
    "            R[layer] = unpool(A[layer+1], indices1)\n",
    "            continue\n",
    "        if layers[layer][0] == 'relu1' or layers[layer][0] == 'relu2':\n",
    "            R[layer] = A[layer + 1]\n",
    "            continue\n",
    "        A[layer] = A[layer].data.requires_grad_(True)\n",
    "        z = newlayer(layers[layer][1]).forward(A[layer]) + 1e-9\n",
    "        s = (R[layer+1].to(dev) / z).data\n",
    "        (z * s).sum().backward()\n",
    "        c = A[layer].grad\n",
    "        R[layer] = (A[layer] * c).cpu().data \n",
    "    return R[0], R, L\n",
    "        \n",
    "\n",
    "\n",
    "def newlayer(layer : nn.Module) -> nn.Module:\n",
    "    layer = copy.deepcopy(layer)\n",
    "    layer.weight = torch.nn.Parameter(layer.weight)\n",
    "    layer.bias = torch.nn.Parameter(layer.bias)\n",
    "    return layer"
   ]
  },
  {
   "cell_type": "code",
   "execution_count": 18,
   "metadata": {},
   "outputs": [
    {
     "data": {
      "text/plain": [
       "<matplotlib.image.AxesImage at 0x2bd31f88790>"
      ]
     },
     "execution_count": 18,
     "metadata": {},
     "output_type": "execute_result"
    },
    {
     "data": {
      "image/png": "[encoded data removed]",
      "text/plain": [
       "<Figure size 640x480 with 1 Axes>"
      ]
     },
     "metadata": {},
     "output_type": "display_data"
    }
   ],
   "source": [
    "test_loader = DataLoader(test_dataset, batch_size=1, shuffle=True)\n",
    "image, label = next(iter(test_loader))\n",
    "model(image.to(dev))\n",
    "lrp_0, lrp, layers_len = LRP_0(model, image.to(dev))\n",
    "\n",
    "for image, label in test_loader:\n",
    "    out1, out2, _ = LRP_0(model, image.to(dev))\n",
    "    lrp_0 += out1\n",
    "    lrp += out2\n",
    "\n",
    "img = lrp_0.squeeze(0).permute(1,2,0).numpy()\n",
    "plt.imshow(img)"
   ]
  },
  {
   "cell_type": "code",
   "execution_count": 43,
   "metadata": {},
   "outputs": [
    {
     "name": "stdout",
     "output_type": "stream",
     "text": [
      "(1, 1, 28, 28)\n",
      "2032219.8\n",
      "1\n",
      "\t(1, 1, 28, 28) 2032219.75\n",
      "(1, 16, 28, 28)\n",
      "325.096\n",
      "16\n",
      "\t(1, 16, 28, 28) 42.39314270019531\n",
      "\t(1, 16, 28, 28) 0.0\n",
      "\t(1, 16, 28, 28) 38.28995895385742\n",
      "\t(1, 16, 28, 28) 5.986189842224121\n",
      "\t(1, 16, 28, 28) 7.164911270141602\n",
      "\t(1, 16, 28, 28) 13.469781875610352\n",
      "\t(1, 16, 28, 28) 6.895463943481445\n",
      "\t(1, 16, 28, 28) 4.799112319946289\n",
      "\t(1, 16, 28, 28) 29.498397827148438\n",
      "\t(1, 16, 28, 28) 7.832479000091553\n",
      "\t(1, 16, 28, 28) 26.311452865600586\n",
      "\t(1, 16, 28, 28) 40.024658203125\n",
      "\t(1, 16, 28, 28) 11.747225761413574\n",
      "\t(1, 16, 28, 28) 23.4102783203125\n",
      "\t(1, 16, 28, 28) 12.968201637268066\n",
      "\t(1, 16, 28, 28) 54.30476379394531\n",
      "(1, 16, 28, 28)\n",
      "137.38538\n",
      "16\n",
      "\t(1, 16, 28, 28) 15.388792037963867\n",
      "\t(1, 16, 28, 28) 0.0\n",
      "\t(1, 16, 28, 28) 17.84420394897461\n",
      "\t(1, 16, 28, 28) 3.0856432914733887\n",
      "\t(1, 16, 28, 28) 3.9188168048858643\n",
      "\t(1, 16, 28, 28) 7.212637901306152\n",
      "\t(1, 16, 28, 28) 2.0204451084136963\n",
      "\t(1, 16, 28, 28) 1.9857184886932373\n",
      "\t(1, 16, 28, 28) 14.759345054626465\n",
      "\t(1, 16, 28, 28) 4.7548089027404785\n",
      "\t(1, 16, 28, 28) 8.160021781921387\n",
      "\t(1, 16, 28, 28) 17.54956817626953\n",
      "\t(1, 16, 28, 28) 6.353195667266846\n",
      "\t(1, 16, 28, 28) 6.8841423988342285\n",
      "\t(1, 16, 28, 28) 6.582149505615234\n",
      "\t(1, 16, 28, 28) 20.88589096069336\n",
      "(1, 16, 14, 14)\n",
      "173.40846\n",
      "16\n",
      "\t(1, 16, 14, 14) 0.15196183323860168\n",
      "\t(1, 16, 14, 14) 0.0\n",
      "\t(1, 16, 14, 14) 45.25663757324219\n",
      "\t(1, 16, 14, 14) 3.645533800125122\n",
      "\t(1, 16, 14, 14) 9.455459594726562\n",
      "\t(1, 16, 14, 14) -2.901259660720825\n",
      "\t(1, 16, 14, 14) -0.9279341697692871\n",
      "\t(1, 16, 14, 14) -1.2089025974273682\n",
      "\t(1, 16, 14, 14) 28.723941802978516\n",
      "\t(1, 16, 14, 14) 14.638347625732422\n",
      "\t(1, 16, 14, 14) -1.2912999391555786\n",
      "\t(1, 16, 14, 14) 59.33624267578125\n",
      "\t(1, 16, 14, 14) 5.735942840576172\n",
      "\t(1, 16, 14, 14) -3.7262966632843018\n",
      "\t(1, 16, 14, 14) 25.353561401367188\n",
      "\t(1, 16, 14, 14) -8.833468437194824\n",
      "(1, 32, 14, 14)\n",
      "188.65544\n",
      "32\n",
      "\t(1, 32, 14, 14) 0.017020657658576965\n",
      "\t(1, 32, 14, 14) 9.466115951538086\n",
      "\t(1, 32, 14, 14) 24.7006893157959\n",
      "\t(1, 32, 14, 14) 17.794870376586914\n",
      "\t(1, 32, 14, 14) 0.0\n",
      "\t(1, 32, 14, 14) 10.280495643615723\n",
      "\t(1, 32, 14, 14) 38.43694305419922\n",
      "\t(1, 32, 14, 14) 0.0\n",
      "\t(1, 32, 14, 14) 6.688302993774414\n",
      "\t(1, 32, 14, 14) 0.0\n",
      "\t(1, 32, 14, 14) 0.0\n",
      "\t(1, 32, 14, 14) 0.0\n",
      "\t(1, 32, 14, 14) 13.801231384277344\n",
      "\t(1, 32, 14, 14) 0.0\n",
      "\t(1, 32, 14, 14) 0.0\n",
      "\t(1, 32, 14, 14) 13.530055046081543\n",
      "\t(1, 32, 14, 14) 0.0\n",
      "\t(1, 32, 14, 14) 1.2446221113204956\n",
      "\t(1, 32, 14, 14) 0.0\n",
      "\t(1, 32, 14, 14) 0.0\n",
      "\t(1, 32, 14, 14) 15.659915924072266\n",
      "\t(1, 32, 14, 14) 0.0\n",
      "\t(1, 32, 14, 14) 0.0\n",
      "\t(1, 32, 14, 14) 14.885767936706543\n",
      "\t(1, 32, 14, 14) 0.0\n",
      "\t(1, 32, 14, 14) 0.0\n",
      "\t(1, 32, 14, 14) 0.0\n",
      "\t(1, 32, 14, 14) 5.847201347351074\n",
      "\t(1, 32, 14, 14) 0.0028419625014066696\n",
      "\t(1, 32, 14, 14) 0.007627032697200775\n",
      "\t(1, 32, 14, 14) 16.29173469543457\n",
      "\t(1, 32, 14, 14) 0.0\n",
      "(1, 32, 14, 14)\n",
      "90.156296\n",
      "32\n",
      "\t(1, 32, 14, 14) 0.017020657658576965\n",
      "\t(1, 32, 14, 14) 4.268016815185547\n",
      "\t(1, 32, 14, 14) 10.620216369628906\n",
      "\t(1, 32, 14, 14) 8.806310653686523\n",
      "\t(1, 32, 14, 14) 0.0\n",
      "\t(1, 32, 14, 14) 6.638641357421875\n",
      "\t(1, 32, 14, 14) 15.179452896118164\n",
      "\t(1, 32, 14, 14) 0.0\n",
      "\t(1, 32, 14, 14) 3.103316068649292\n",
      "\t(1, 32, 14, 14) 0.0\n",
      "\t(1, 32, 14, 14) 0.0\n",
      "\t(1, 32, 14, 14) 0.0\n",
      "\t(1, 32, 14, 14) 6.5515007972717285\n",
      "\t(1, 32, 14, 14) 0.0\n",
      "\t(1, 32, 14, 14) 0.0\n",
      "\t(1, 32, 14, 14) 6.383490085601807\n",
      "\t(1, 32, 14, 14) 0.0\n",
      "\t(1, 32, 14, 14) 0.6666673421859741\n",
      "\t(1, 32, 14, 14) 0.0\n",
      "\t(1, 32, 14, 14) 0.0\n",
      "\t(1, 32, 14, 14) 8.637298583984375\n",
      "\t(1, 32, 14, 14) 0.0\n",
      "\t(1, 32, 14, 14) 0.0\n",
      "\t(1, 32, 14, 14) 7.963935852050781\n",
      "\t(1, 32, 14, 14) 0.0\n",
      "\t(1, 32, 14, 14) 0.0\n",
      "\t(1, 32, 14, 14) 0.0\n",
      "\t(1, 32, 14, 14) 3.185495138168335\n",
      "\t(1, 32, 14, 14) 0.0028419625014066696\n",
      "\t(1, 32, 14, 14) 0.007627032697200775\n",
      "\t(1, 32, 14, 14) 8.124462127685547\n",
      "\t(1, 32, 14, 14) 0.0\n",
      "(32, 7, 7)\n",
      "90.156296\n",
      "7\n",
      "(1, 1568)\n",
      "14.484981\n",
      "1568\n"
     ]
    }
   ],
   "source": [
    "for i in range(layers_len):\n",
    "    np_arr = lrp[i].cpu().data.numpy()\n",
    "    print(np_arr.shape)\n",
    "    print(np.sum(np_arr))\n",
    "    print(np_arr.shape[1])\n",
    "    if i <= 5:\n",
    "        for j in range(np_arr.shape[1]):\n",
    "            print(f\"\\t{np_arr.shape} {np.sum(np_arr[0][j])}\")\n",
    "            # print(f\"\\t{np.sum(np_arr[0][j])}\")\n",
    "    #     for j in lrp[i][0]:\n",
    "    #         print(f\"\\t{np.sum(lrp[i][0][j].cpu().data.numpy())}\")"
   ]
  },
  {
   "cell_type": "code",
   "execution_count": 75,
   "metadata": {},
   "outputs": [
    {
     "name": "stdout",
     "output_type": "stream",
     "text": [
      "[1, 3, 4, 6, 7, 9]\n",
      "torch.Size([1, 5, 5])\n",
      "1\n",
      "3\n",
      "4\n",
      "6\n",
      "7\n",
      "9\n"
     ]
    }
   ],
   "source": [
    "model_copy = copy.deepcopy(model)\n",
    "np_arr = lrp[1].cpu().data.numpy()\n",
    "indexes = []\n",
    "for x in range(np_arr.shape[1]):\n",
    "    relevance_sum = np.sum(np_arr[0][x])\n",
    "    if relevance_sum < 10:\n",
    "        indexes.append(x)\n",
    "print(indexes)\n",
    "print(model_copy.conv1.weight[1].shape)\n",
    "with torch.no_grad():\n",
    "    for x in indexes:\n",
    "        print(x)\n",
    "        model_copy.conv1.weight[x] = nn.parameter.Parameter(torch.zeros(1, 5, 5))"
   ]
  },
  {
   "cell_type": "code",
   "execution_count": 76,
   "metadata": {},
   "outputs": [
    {
     "name": "stdout",
     "output_type": "stream",
     "text": [
      "Loss: 0.1359, accuracy: 0.9580\n"
     ]
    }
   ],
   "source": [
    "test_loss, total, test_acc = evaluate(model_copy, loss_fun, test_loader, metric=accuracy)\n",
    "print(f\"Loss: {test_loss:.4f}, accuracy: {test_acc:.4f}\")"
   ]
  },
  {
   "cell_type": "code",
   "execution_count": 8,
   "metadata": {},
   "outputs": [
    {
     "data": {
      "text/plain": [
       "<matplotlib.image.AxesImage at 0x2bc4aebb730>"
      ]
     },
     "execution_count": 8,
     "metadata": {},
     "output_type": "execute_result"
    },
    {
     "data": {
      "image/png": "[encoded data removed]",
      "text/plain": [
       "<Figure size 640x480 with 1 Axes>"
      ]
     },
     "metadata": {},
     "output_type": "display_data"
    }
   ],
   "source": [
    "test_loader = DataLoader(test_dataset, batch_size=1, shuffle=True)\n",
    "image, label = next(iter(test_loader))\n",
    "model(image.to(dev))\n",
    "lrp = LRP_0(model, image.to(dev))\n",
    "\n",
    "for image, label in test_loader:\n",
    "    lrp += LRP_0(model, image.to(dev))\n",
    "\n",
    "img = lrp.squeeze(0).permute(1,2,0).numpy()\n",
    "plt.imshow(img)"
   ]
  },
  {
   "cell_type": "code",
   "execution_count": 28,
   "metadata": {},
   "outputs": [
    {
     "name": "stdout",
     "output_type": "stream",
     "text": [
      "torch.Size([1, 16, 28, 28])\n"
     ]
    },
    {
     "data": {
      "text/plain": [
       "<matplotlib.image.AxesImage at 0x16a42b700>"
      ]
     },
     "execution_count": 28,
     "metadata": {},
     "output_type": "execute_result"
    },
    {
     "data": {
      "image/png": "[encoded data removed]",
      "text/plain": [
       "<Figure size 640x480 with 1 Axes>"
      ]
     },
     "metadata": {},
     "output_type": "display_data"
    },
    {
     "data": {
      "image/png": "[encoded data removed]",
      "text/plain": [
       "<Figure size 640x480 with 1 Axes>"
      ]
     },
     "metadata": {},
     "output_type": "display_data"
    }
   ],
   "source": [
    "test_loader = DataLoader(test_dataset, batch_size=1, shuffle=True)\n",
    "image, label = next(iter(test_loader))\n",
    "model(image.to(dev))\n",
    "img = image.squeeze(0).permute(1,2,0).numpy()\n",
    "plt.imshow(img)\n",
    "lrp = LRP_0(model, image.to(dev))\n",
    "img = lrp.squeeze(0).permute(1,2,0).numpy()\n",
    "plt.figure()\n",
    "plt.imshow(img)"
   ]
  },
  {
   "cell_type": "code",
   "execution_count": null,
   "metadata": {},
   "outputs": [],
   "source": []
  },
  {
   "cell_type": "code",
   "execution_count": null,
   "metadata": {},
   "outputs": [],
   "source": []
  }
 ],
 "metadata": {
  "kernelspec": {
   "display_name": "Python 3.10.10 64-bit",
   "language": "python",
   "name": "python3"
  },
  "language_info": {
   "codemirror_mode": {
    "name": "ipython",
    "version": 3
   },
   "file_extension": ".py",
   "mimetype": "text/x-python",
   "name": "python",
   "nbconvert_exporter": "python",
   "pygments_lexer": "ipython3",
   "version": "3.10.0"
  },
  "orig_nbformat": 4,
  "vscode": {
   "interpreter": {
    "hash": "eda7e54fe21129b67f77862937907ee926f057597a3e2fa1e18ac955e40912b3"
   }
  }
 },
 "nbformat": 4,
 "nbformat_minor": 2
}
