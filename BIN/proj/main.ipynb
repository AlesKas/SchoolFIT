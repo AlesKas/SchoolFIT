{
 "cells": [
  {
   "cell_type": "code",
   "execution_count": 9,
   "metadata": {},
   "outputs": [],
   "source": [
    "import os\n",
    "import torch\n",
    "import random\n",
    "\n",
    "import numpy as np\n",
    "import torch.nn as nn\n",
    "import matplotlib.pyplot as plt\n",
    "import torch.nn.functional as F\n",
    "import torch.nn.utils.prune as prune\n",
    "import torchvision.transforms as transforms\n",
    "\n",
    "from eval import accuracy\n",
    "from model import MnistCNN\n",
    "from train import fit, evaluate\n",
    "from torchvision.datasets import MNIST\n",
    "from torch.utils.data.dataloader import DataLoader\n",
    "from torch.utils.data.sampler import SubsetRandomSampler\n",
    "%matplotlib inline"
   ]
  },
  {
   "cell_type": "code",
   "execution_count": 3,
   "metadata": {},
   "outputs": [],
   "source": [
    "BATCH_SIZE = 100\n",
    "NUM_CLASSES = 10\n",
    "INPUT_SIZE = 28 * 28\n",
    "DATASET = MNIST(root='data/', download=True, train=True, transform=transforms.ToTensor())"
   ]
  },
  {
   "cell_type": "code",
   "execution_count": 30,
   "metadata": {},
   "outputs": [],
   "source": [
    "if torch.cuda.is_available():  \n",
    "    dev = \"cuda:0\" \n",
    "else:  \n",
    "    dev = \"cpu\" \n",
    "\n",
    "def split_indices(n, val_pct):\n",
    "    # Determine size of validation set\n",
    "    n_val = int(val_pct*n)\n",
    "\n",
    "    idxs = np.random.permutation(n)\n",
    "\n",
    "    return idxs[n_val:], idxs[:n_val]\n",
    "\n",
    "train_indexes, validation_indexes = split_indices(len(DATASET), 0.2)\n",
    "\n",
    "train_sampler = SubsetRandomSampler(train_indexes)\n",
    "train_loader = DataLoader(DATASET, BATCH_SIZE, sampler=train_sampler)\n",
    "\n",
    "val_sampler = SubsetRandomSampler(validation_indexes)\n",
    "val_loader = DataLoader(DATASET, BATCH_SIZE, sampler=val_sampler)\n",
    "\n",
    "loss_fun = F.cross_entropy\n",
    "\n",
    "def predict_image(image, model):\n",
    "    xb = image.unsqueeze(0).to(dev)\n",
    "    yb = model(xb)\n",
    "    yb = yb.to(dev)\n",
    "    _, preds = torch.max(yb, dim=1)\n",
    "    return preds[0].item()\n",
    "\n",
    "def plot_graph(acc_list, lost_list, title):\n",
    "    plt.plot(np.arange(0.0, 1.0, 0.1), acc_list, '-b', label='accuracy')\n",
    "    plt.plot(np.arange(0.0, 1.0, 0.1), lost_list, '-r', label='loss')\n",
    "    plt.legend(loc='upper left')\n",
    "    plt.xlabel(\"amount pruned\")\n",
    "    plt.title(title)\n",
    "    plt.show()\n"
   ]
  },
  {
   "cell_type": "code",
   "execution_count": 31,
   "metadata": {},
   "outputs": [],
   "source": [
    "if not os.path.isfile('model.pt'):\n",
    "    model = MnistCNN().to(dev)\n",
    "    learning_rate = 0.001\n",
    "    optimizer = torch.optim.SGD(model.parameters(), lr=learning_rate)\n",
    "\n",
    "    fit(10, model, loss_fun, optimizer, train_loader, val_loader, accuracy)\n",
    "\n",
    "    torch.save(model.state_dict(), 'model.pt')\n",
    "else:\n",
    "    model = MnistCNN()\n",
    "    model.load_state_dict(torch.load('model.pt'))\n",
    "    model.to(dev)"
   ]
  },
  {
   "cell_type": "code",
   "execution_count": 32,
   "metadata": {},
   "outputs": [
    {
     "name": "stdout",
     "output_type": "stream",
     "text": [
      "Loss: 0.1468, accuracy: 0.9571\n"
     ]
    }
   ],
   "source": [
    "test_dataset = MNIST(root='data/', train=False, transform=transforms.ToTensor())\n",
    "test_loader = DataLoader(test_dataset, batch_size=200)\n",
    "test_loss, total, test_acc = evaluate(model, loss_fun, test_loader, metric=accuracy)\n",
    "print(f\"Loss: {test_loss:.4f}, accuracy: {test_acc:.4f}\")"
   ]
  },
  {
   "cell_type": "code",
   "execution_count": 33,
   "metadata": {},
   "outputs": [
    {
     "name": "stdout",
     "output_type": "stream",
     "text": [
      "Amount pruned: 0.0, Loss: 0.1468, accuracy: 0.9571\n",
      "Amount pruned: 0.1, Loss: 0.1481, accuracy: 0.9568\n",
      "Amount pruned: 0.2, Loss: 0.1668, accuracy: 0.9476\n",
      "Amount pruned: 0.3, Loss: 0.2013, accuracy: 0.9393\n",
      "Amount pruned: 0.4, Loss: 0.4019, accuracy: 0.8710\n",
      "Amount pruned: 0.5, Loss: 0.8660, accuracy: 0.7178\n",
      "Amount pruned: 0.6, Loss: 1.2497, accuracy: 0.5889\n",
      "Amount pruned: 0.7, Loss: 2.7956, accuracy: 0.1153\n",
      "Amount pruned: 0.8, Loss: 2.6539, accuracy: 0.1135\n",
      "Amount pruned: 0.9, Loss: 2.6539, accuracy: 0.1135\n"
     ]
    }
   ],
   "source": [
    "params_to_prune = [\n",
    "    (module, \"weight\") for module in filter(lambda m: type(m) == torch.nn.Conv2d, model.modules())\n",
    "]\n",
    "\n",
    "acc = []\n",
    "lss = []\n",
    "\n",
    "for num in np.arange(0.0, 1.0, 0.1):\n",
    "    prune.global_unstructured(\n",
    "        params_to_prune,\n",
    "        pruning_method=prune.L1Unstructured,\n",
    "        amount=num\n",
    "    )\n",
    "\n",
    "    test_loader = DataLoader(test_dataset, batch_size=200)\n",
    "    test_loss, total, test_acc = evaluate(model, loss_fun, test_loader, metric=accuracy)\n",
    "    print(f\"Amount pruned: {num:.1f}, Loss: {test_loss:.4f}, accuracy: {test_acc:.4f}\")\n",
    "    acc.append(test_acc)\n",
    "    lss.append(test_loss)"
   ]
  },
  {
   "cell_type": "code",
   "execution_count": 34,
   "metadata": {},
   "outputs": [
    {
     "data": {
      "image/png": "[encoded data removed]",
      "text/plain": [
       "<Figure size 640x480 with 1 Axes>"
      ]
     },
     "metadata": {},
     "output_type": "display_data"
    }
   ],
   "source": [
    "plot_graph(acc, lss, 'global_unstructured')"
   ]
  },
  {
   "cell_type": "code",
   "execution_count": null,
   "metadata": {},
   "outputs": [],
   "source": []
  }
 ],
 "metadata": {
  "kernelspec": {
   "display_name": "Python 3",
   "language": "python",
   "name": "python3"
  },
  "language_info": {
   "codemirror_mode": {
    "name": "ipython",
    "version": 3
   },
   "file_extension": ".py",
   "mimetype": "text/x-python",
   "name": "python",
   "nbconvert_exporter": "python",
   "pygments_lexer": "ipython3",
   "version": "3.10.0"
  },
  "orig_nbformat": 4
 },
 "nbformat": 4,
 "nbformat_minor": 2
}
