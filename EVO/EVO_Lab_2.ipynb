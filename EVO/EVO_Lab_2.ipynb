{
  "cells": [
    {
      "cell_type": "markdown",
      "metadata": {
        "id": "wFEWs_qBjw1O"
      },
      "source": [
        "<div align=\"center\">\n",
        "<img src=\"https://drive.google.com/uc?id=1l_yl0cSu7HTWG9AaUH7D39Wsd1XGUbXn\" width=\"300\"><br>\n",
        "</div>\n",
        "\n",
        "<h1>EVO: cvičení 2 - Genetický algoritmus</h1>\n",
        "\n",
        "___\n",
        "\n",
        "<h2>Řešená úloha - Problém návrhu MOSFET</h2>\n",
        "\n",
        "<h3>Unipolární tranzistory</h3>\n",
        "\n",
        "* Obvykle označovány zkratkou FET (Field-Effect-Tranzistor) = proud je řízen elektrickým polem.\n",
        "* Narozdíl od bipolárních tranzistorů putuje náboj pouze jedním typem materiálu (n nebo p).\n",
        "* Tři vývody: Source (emitor), Gate (báze) a Drain (kolektor).\n",
        "* Vysoký vstupní odpor a téměř nulový řídící výkon je dělají vhodné pro řadu využití včetně obvodů s vysokou hustotou integrace.\n",
        "\n",
        "\n",
        "<h4>MOSFET (Metal Oxide Semiconductor Field Effect Transistor)</h4>\n",
        "\n",
        "* Unipolrní tranzistor oddělující řídící napětí od kanálu pomocí izolantu oxidu křemičitého.\n",
        "* Dělení na typ vedoucí bez vnějšího napětí a které naopak vedou s ním. Oba typy se dále dělí na typy s kanálem N a s kanálem P.\n",
        "\n",
        "MOSFET s nevodivým kanálem N\n",
        "* Bez účinku vnějšího pole není mezi elektrodami drain a source žádný vodivý kanál.\n",
        "* Po připojení kladného napětí mezi elektrody gate a source jsou elektrony ze substrátu s dotací P přitahovány ke hradlu gate -> je vytvořen vodivý kanál.\n",
        "* **Proud na drain je tím vyšší, čím je větší kladné napětí na gate**.\n",
        "\n",
        "<div align=\"center\">\n",
        "<img src=\"https://drive.google.com/uc?id=1qBTp__GX7OAU5iSHzhRGH3IrDhyqJz4d\" width=\"400\"><br>\n",
        "MOSFET tranzistor s nevodivým kanálem N.\n",
        "</div>\n",
        "\n",
        "___\n",
        "<h3>Genetické algoritmy</h3>\n",
        "\n",
        "* Viz. přednáška z předmětu EVO.\n",
        "\n",
        "<div align=\"center\">\n",
        "<img src=\"https://drive.google.com/uc?id=1pUMFSyq_EjsoiKXWPNB6-KYD951CL-r1\" width=\"500\"><br>\n",
        "</div>\n",
        "\n",
        "___\n",
        "<h3>Úkoly</h3>\n",
        "\n",
        "1. Seznámit se s základy technologie MOSFET.\n",
        "2. Seznámit se s kódem.\n",
        "3. Naprogramovat další metodu křížení a selekce.\n",
        "4. Pomocí genetického algoritmu nalézt vhodné parametry hodnoty délky, šířky a plochy emitoru a kolektoru pro dosažení správné převodní charakteristiky.\n",
        "\n",
        "V rámci experimentů:\n",
        "1. Porovnat varianty křížení a selekce.\n",
        "2. Vyzkoušet upravit fitness funkci.\n",
        "3. Porvnat nastavení několika parametrů GA."
      ]
    },
    {
      "cell_type": "markdown",
      "metadata": {
        "id": "bsVnv5FR_px8"
      },
      "source": [
        "Stažení souborů nutných k simulaci obvodu"
      ]
    },
    {
      "cell_type": "code",
      "execution_count": 3,
      "metadata": {
        "colab": {
          "base_uri": "https://localhost:8080/"
        },
        "id": "cQhJ8Mau_rjS",
        "outputId": "ef804e8a-6da0-414d-8bfa-cdb9ae4bec17"
      },
      "outputs": [
        {
          "name": "stdout",
          "output_type": "stream",
          "text": [
            "rm: cannot remove 'libraries': No such file or directory\n",
            "rm: cannot remove 'target_values': No such file or directory\n",
            "Downloading...\n",
            "From: https://drive.google.com/uc?id=1MdYNFDpX5bQUAwpg7UrsIj3G6M-aTtIY\n",
            "To: /content/evo_lab2_files.zip\n",
            "100% 5.41k/5.41k [00:00<00:00, 3.81MB/s]\n",
            "Archive:  evo_lab2_files.zip\n",
            "   creating: libraries/\n",
            "   creating: libraries/transistor/\n",
            "  inflating: libraries/transistor/ptm_65nm_nmos_bulk.mod  \n",
            "  inflating: libraries/transistor/ptm_65nm_pmos_bulk.mod  \n",
            "  inflating: target_values           \n"
          ]
        }
      ],
      "source": [
        "!rm -r libraries target_values\n",
        "!gdown 1MdYNFDpX5bQUAwpg7UrsIj3G6M-aTtIY\n",
        "!unzip evo_lab2_files.zip\n",
        "!rm evo_lab2_files.zip"
      ]
    },
    {
      "cell_type": "markdown",
      "metadata": {
        "id": "R4vPVA1A_vFx"
      },
      "source": [
        "Instalace potřebných knihoven"
      ]
    },
    {
      "cell_type": "code",
      "execution_count": 42,
      "metadata": {
        "colab": {
          "base_uri": "https://localhost:8080/"
        },
        "id": "WGYtIYtI-OR2",
        "outputId": "9b198dbf-d156-46e7-8b62-403fa4c8a736"
      },
      "outputs": [
        {
          "name": "stdout",
          "output_type": "stream",
          "text": [
            "Looking in indexes: https://pypi.org/simple, https://us-python.pkg.dev/colab-wheels/public/simple/\n",
            "Requirement already satisfied: pyspice in /usr/local/lib/python3.8/dist-packages (1.5)\n",
            "Requirement already satisfied: ply>=3.11 in /usr/local/lib/python3.8/dist-packages (from pyspice) (3.11)\n",
            "Requirement already satisfied: PyYAML>=5.3 in /usr/local/lib/python3.8/dist-packages (from pyspice) (6.0)\n",
            "Requirement already satisfied: matplotlib>=3.2 in /usr/local/lib/python3.8/dist-packages (from pyspice) (3.5.3)\n",
            "Requirement already satisfied: requests>=2.23 in /usr/local/lib/python3.8/dist-packages (from pyspice) (2.25.1)\n",
            "Requirement already satisfied: cffi>=1.14 in /usr/local/lib/python3.8/dist-packages (from pyspice) (1.15.1)\n",
            "Requirement already satisfied: scipy>=1.4 in /usr/local/lib/python3.8/dist-packages (from pyspice) (1.7.3)\n",
            "Requirement already satisfied: numpy>=1.18 in /usr/local/lib/python3.8/dist-packages (from pyspice) (1.22.4)\n",
            "Requirement already satisfied: pycparser in /usr/local/lib/python3.8/dist-packages (from cffi>=1.14->pyspice) (2.21)\n",
            "Requirement already satisfied: fonttools>=4.22.0 in /usr/local/lib/python3.8/dist-packages (from matplotlib>=3.2->pyspice) (4.38.0)\n",
            "Requirement already satisfied: python-dateutil>=2.7 in /usr/local/lib/python3.8/dist-packages (from matplotlib>=3.2->pyspice) (2.8.2)\n",
            "Requirement already satisfied: cycler>=0.10 in /usr/local/lib/python3.8/dist-packages (from matplotlib>=3.2->pyspice) (0.11.0)\n",
            "Requirement already satisfied: packaging>=20.0 in /usr/local/lib/python3.8/dist-packages (from matplotlib>=3.2->pyspice) (23.0)\n",
            "Requirement already satisfied: kiwisolver>=1.0.1 in /usr/local/lib/python3.8/dist-packages (from matplotlib>=3.2->pyspice) (1.4.4)\n",
            "Requirement already satisfied: pyparsing>=2.2.1 in /usr/local/lib/python3.8/dist-packages (from matplotlib>=3.2->pyspice) (3.0.9)\n",
            "Requirement already satisfied: pillow>=6.2.0 in /usr/local/lib/python3.8/dist-packages (from matplotlib>=3.2->pyspice) (8.4.0)\n",
            "Requirement already satisfied: idna<3,>=2.5 in /usr/local/lib/python3.8/dist-packages (from requests>=2.23->pyspice) (2.10)\n",
            "Requirement already satisfied: chardet<5,>=3.0.2 in /usr/local/lib/python3.8/dist-packages (from requests>=2.23->pyspice) (4.0.0)\n",
            "Requirement already satisfied: urllib3<1.27,>=1.21.1 in /usr/local/lib/python3.8/dist-packages (from requests>=2.23->pyspice) (1.26.14)\n",
            "Requirement already satisfied: certifi>=2017.4.17 in /usr/local/lib/python3.8/dist-packages (from requests>=2.23->pyspice) (2022.12.7)\n",
            "Requirement already satisfied: six>=1.5 in /usr/local/lib/python3.8/dist-packages (from python-dateutil>=2.7->matplotlib>=3.2->pyspice) (1.15.0)\n",
            "Looking in indexes: https://pypi.org/simple, https://us-python.pkg.dev/colab-wheels/public/simple/\n",
            "Collecting npr\n",
            "  Downloading npr-2.3.0-py2.py3-none-any.whl (12 kB)\n",
            "Requirement already satisfied: requests in /usr/local/lib/python3.8/dist-packages (from npr) (2.25.1)\n",
            "Collecting algoliasearch\n",
            "  Downloading algoliasearch-3.0.0-py2.py3-none-any.whl (33 kB)\n",
            "Requirement already satisfied: future in /usr/local/lib/python3.8/dist-packages (from npr) (0.16.0)\n",
            "Requirement already satisfied: idna<3,>=2.5 in /usr/local/lib/python3.8/dist-packages (from requests->npr) (2.10)\n",
            "Requirement already satisfied: certifi>=2017.4.17 in /usr/local/lib/python3.8/dist-packages (from requests->npr) (2022.12.7)\n",
            "Requirement already satisfied: urllib3<1.27,>=1.21.1 in /usr/local/lib/python3.8/dist-packages (from requests->npr) (1.26.14)\n",
            "Requirement already satisfied: chardet<5,>=3.0.2 in /usr/local/lib/python3.8/dist-packages (from requests->npr) (4.0.0)\n",
            "Installing collected packages: algoliasearch, npr\n",
            "Successfully installed algoliasearch-3.0.0 npr-2.3.0\n",
            "Reading package lists... Done\n",
            "Building dependency tree       \n",
            "Reading state information... Done\n",
            "libngspice0-dev is already the newest version (31.3-2).\n",
            "0 upgraded, 0 newly installed, 0 to remove and 19 not upgraded.\n",
            "OS: linux\n",
            "\n",
            "Environments:\n",
            "PATH /opt/bin:/usr/local/nvidia/bin:/usr/local/cuda/bin:/usr/local/sbin:/usr/local/bin:/usr/sbin:/usr/bin:/sbin:/bin:/tools/node/bin:/tools/google-cloud-sdk/bin\n",
            "LD_LIBRARY_PATH /usr/local/nvidia/lib:/usr/local/nvidia/lib64\n",
            "PYTHONPATH /env/python\n",
            "NGSPICE_LIBRARY_PATH undefined\n",
            "SPICE_LIB_DIR undefined\n",
            "SPICE_EXEC_DIR undefined\n",
            "SPICE_ASCIIRAWFILE undefined\n",
            "SPICE_SCRIPTS undefined\n",
            "NGSPICE_MEAS_PRECISION undefined\n",
            "SPICE_NO_DATASEG_CHECK undefined\n",
            "NGSPICE_INPUT_DIR undefined\n",
            "\n",
            "Load PySpice module\n",
            "loaded /usr/local/lib/python3.8/dist-packages/PySpice/__init__.py version 1.5\n",
            "\n",
            "ngspice supported version: 34\n",
            "\n",
            "NgSpiceShared configuration is\n",
            "  NgSpiceShared.NGSPICE_PATH = None\n",
            "  NgSpiceShared.LIBRARY_PATH = libngspice{}.so\n",
            "\n",
            "Working directory: /content\n",
            "\n",
            "NgSpice: /usr/local/lib/python3.8/dist-packages/PySpice/Spice/NgSpice\n",
            "/usr/local/lib/python3.8/dist-packages/PySpice/Spice/NgSpice __init__.py\n",
            "/usr/local/lib/python3.8/dist-packages/PySpice/Spice/NgSpice SimulationType.py\n",
            "/usr/local/lib/python3.8/dist-packages/PySpice/Spice/NgSpice Simulation.py\n",
            "/usr/local/lib/python3.8/dist-packages/PySpice/Spice/NgSpice RawFile.py\n",
            "/usr/local/lib/python3.8/dist-packages/PySpice/Spice/NgSpice Server.py\n",
            "/usr/local/lib/python3.8/dist-packages/PySpice/Spice/NgSpice Shared.py\n",
            "/usr/local/lib/python3.8/dist-packages/PySpice/Spice/NgSpice api.h\n",
            "/usr/local/lib/python3.8/dist-packages/PySpice/Spice/NgSpice/__pycache__ SimulationType.cpython-38.pyc\n",
            "/usr/local/lib/python3.8/dist-packages/PySpice/Spice/NgSpice/__pycache__ Server.cpython-38.pyc\n",
            "/usr/local/lib/python3.8/dist-packages/PySpice/Spice/NgSpice/__pycache__ Shared.cpython-38.pyc\n",
            "/usr/local/lib/python3.8/dist-packages/PySpice/Spice/NgSpice/__pycache__ Simulation.cpython-38.pyc\n",
            "/usr/local/lib/python3.8/dist-packages/PySpice/Spice/NgSpice/__pycache__ __init__.cpython-38.pyc\n",
            "/usr/local/lib/python3.8/dist-packages/PySpice/Spice/NgSpice/__pycache__ RawFile.cpython-38.pyc\n",
            "\n",
            "OS is Linux\n",
            "Found in library search path: libngspice.so.0\n",
            "\n",
            "Load NgSpiceShared\n",
            "Load library libngspice.so\n",
            "\u001b[1;32m2023-03-01 10:11:16,872\u001b[0m - \u001b[1;34mPySpice.Spice.NgSpice.Shared.NgSpiceShared._send_char\u001b[0m - \u001b[1;31mWARNING\u001b[0m - spinit was not found\n",
            "\u001b[1;32m2023-03-01 10:11:16,872\u001b[0m - \u001b[1;34mPySpice.Spice.NgSpice.Shared.NgSpiceShared._send_char\u001b[0m - \u001b[1;31mERROR\u001b[0m - Note: can't find init file.\n",
            "loaded /usr/lib/x86_64-linux-gnu/libngspice.so.0.0.0\n",
            "\n",
            "WARNING: spinit was not found\n",
            "\n",
            "Ngspice version is 31\n",
            "  has xspice: True\n",
            "  has cider True\n",
            "\n",
            "> version -f\n",
            "******\n",
            "** ngspice-31 : Circuit level simulation program\n",
            "** The U. C. Berkeley CAD Group\n",
            "** Copyright 1985-1994, Regents of the University of California.\n",
            "** Please get your ngspice manual from http://ngspice.sourceforge.net/docs.html\n",
            "** Please file your bug-reports at http://ngspice.sourceforge.net/bugrep.html\n",
            "** Creation Date: Sun Oct 27 09:07:06 UTC 2019\n",
            "**\n",
            "** CIDER 1.b1 (CODECS simulator) included\n",
            "** XSPICE extensions included\n",
            "** Relevant compilation options (refer to user's manual):\n",
            "** OpenMP multithreading for BSIM3, BSIM4 enabled\n",
            "** X11 interface not compiled into ngspice\n",
            "**\n",
            "******\n",
            "\n",
            "PySpice should work as expected\n"
          ]
        }
      ],
      "source": [
        "!pip install pyspice\n",
        "!sudo apt install libngspice0-dev\n",
        "!pyspice-post-installation --check-install"
      ]
    },
    {
      "cell_type": "markdown",
      "metadata": {
        "id": "6bTjy85yA-JU"
      },
      "source": [
        "Import použitých knihoven"
      ]
    },
    {
      "cell_type": "code",
      "execution_count": 65,
      "metadata": {
        "id": "j4ORuPq5BBqc"
      },
      "outputs": [],
      "source": [
        "# Kresleni grafu\n",
        "import matplotlib.pyplot as plt\n",
        "import random\n",
        "import numpy.random as npr\n",
        "\n",
        "import PySpice.Logging.Logging as Logging\n",
        "logger = Logging.setup_logging()\n",
        "\n",
        "# PySpice knihovna pro simulaci obvodu\n",
        "from PySpice.Doc.ExampleTools import find_libraries\n",
        "from PySpice.Probe.Plot import plot\n",
        "from PySpice.Spice.Library import SpiceLibrary\n",
        "from PySpice.Spice.Netlist import Circuit\n",
        "from PySpice.Unit import *\n",
        "\n",
        "# Nastaveni cesty ke knihovne s komponenty\n",
        "libraries_path = './libraries'\n",
        "spice_library = SpiceLibrary(libraries_path)\n",
        "\n",
        "# Ziskani pseudo-nahodnych cisel\n",
        "from numpy.random import randint\n",
        "from numpy.random import rand\n",
        "from numpy.random import shuffle\n",
        "import numpy as np\n",
        "\n",
        "# Nacteni cilovych hodnot\n",
        "import pickle"
      ]
    },
    {
      "cell_type": "markdown",
      "metadata": {
        "id": "ZYxAah13Bd7b"
      },
      "source": [
        "Běh simulace tranzistoru"
      ]
    },
    {
      "cell_type": "code",
      "execution_count": 6,
      "metadata": {
        "id": "w4Tc-o-NBpVi"
      },
      "outputs": [],
      "source": [
        "def run_simulation(param):\n",
        "    circuit = Circuit('NMOS Transistor')\n",
        "    circuit.include(spice_library['ptm65nm_nmos'])\n",
        " \n",
        "    # DC zdroj\n",
        "    Vdd = 1.1\n",
        "\n",
        "    # Vytvoreni potrebnych prvku obvodu\n",
        "    Vgate = circuit.V('gate', 'gatenode', circuit.gnd, 0@u_V)\n",
        "    Vdrain = circuit.V('drain', 'vdd', circuit.gnd, u_V(Vdd))\n",
        "\n",
        "    # Pouziti dodanych parametru MOSFET\n",
        "    circuit.MOSFET(1,  # Nazev\n",
        "                   'vdd',  # Drain node (kolektor)\n",
        "                   'gatenode',  # Gate node (gate/brana)\n",
        "                   circuit.gnd,  # Source node (emitor)\n",
        "                   circuit.gnd,  # Bulk/Substrate node\n",
        "                   model='ptm65nm_nmos',  # Model\n",
        "                   length=param[0], width=param[1], drain_area=param[2], source_area=param[3])  # Parametry\n",
        "\n",
        "    # Spusteni simulace\n",
        "    simulator = circuit.simulator(temperature=25, nominal_temperature=25)\n",
        "    analysis = simulator.dc(Vgate=slice(0, Vdd, .01))  # Postupne navysovani napeti\n",
        "\n",
        "    return u_mA(-analysis.Vdrain)  # Ziskani krivky napeti na kolektoru"
      ]
    },
    {
      "cell_type": "markdown",
      "metadata": {
        "id": "B1Y7K2geBsPW"
      },
      "source": [
        "Objektivní/fitness funkce\n",
        "\n",
        "Každého jedince ohodnotíme pomocí **simulace** v PySpice. Výsledkem simulace je diskrétní řada vzorků hodnoty proudu na kolektoru. Chceme vyhodnotit, jak moc se blíží ideálnímu průběhu.\n",
        "**Výsledek simulace musíme přepočítat na fitness!**\n",
        "\n",
        "* Vzdálenost skutečného a ideálního průběhu v každém bodě *x*? \n",
        "* Jaká vzdálenost? Kvadraticky? Exponenciálně? (Malé odchylky nám možná ani nevadí, ale velké chceme postihnout.)\n",
        "* Penelizační funkce? Tzn. odchylky do určité velikosti promíjíme, větší trestáme stejnou měrou. (tj. rozhodování správně/špatně)\n",
        "\n",
        "*Vyzkoušejte různé varianty objektivní funkce a pozor na případné přetečení hodnot.*"
      ]
    },
    {
      "cell_type": "code",
      "execution_count": 69,
      "metadata": {
        "id": "DI5RlFljBuHm"
      },
      "outputs": [],
      "source": [
        "def objective(param, target_values):\n",
        "\n",
        "    simulation_values = run_simulation(param)  # Ziskani vystupu simulace pro dane parametry\n",
        "    error = 0.0  # Celkova chyba\n",
        "\n",
        "    # Vypocet chyby\n",
        "    for i in range(len(simulation_values)):\n",
        "        error += abs(target_values[i] - simulation_values[i]) ** 2\n",
        "\n",
        "    return error"
      ]
    },
    {
      "cell_type": "markdown",
      "metadata": {
        "id": "pl7sq6N1BwOQ"
      },
      "source": [
        "Dekódování chromozomu na jednotlivá čísla"
      ]
    },
    {
      "cell_type": "code",
      "execution_count": 8,
      "metadata": {
        "id": "CqirQWdoB127"
      },
      "outputs": [],
      "source": [
        "def decode(bounds, n_bits, bitstring):\n",
        "\n",
        "    decoded = list()  # Vysledny list cisel\n",
        "    largest = 2**n_bits  # Maximalni mozna hodnota\n",
        "\n",
        "    for i in range(len(bounds)):  # Pro jednotliva cisla\n",
        "\n",
        "        # Extrahovani podcasti obsahuji dane cislo\n",
        "        start, end = i * n_bits, (i * n_bits)+n_bits\n",
        "        substring = bitstring[start:end]\n",
        "\n",
        "        # Konverze bitstringu na retezec znaku\n",
        "        chars = ''.join([str(s) for s in substring])\n",
        "        \n",
        "        # Konverze retezce na cislo\n",
        "        integer = int(chars, 2)\n",
        "        \n",
        "        # Skalovani cisla do zadaneho rozsahu\n",
        "        value = bounds[i][0] + (integer/largest) * (bounds[i][1] - bounds[i][0])\n",
        "        \n",
        "        # Ulozeni vysledneho cisla\n",
        "        decoded.append(value)\n",
        "    \n",
        "    return decoded"
      ]
    },
    {
      "cell_type": "markdown",
      "metadata": {
        "id": "L1QQTkmCB4-h"
      },
      "source": [
        "Selekce"
      ]
    },
    {
      "cell_type": "code",
      "execution_count": 9,
      "metadata": {
        "id": "MdXxc_T3B9CI"
      },
      "outputs": [],
      "source": [
        "def tournament_selection(pop, scores, k=2):\n",
        "\n",
        "    # Ziskani nahodneho poradi jedincu\n",
        "    random_order = list(range(0, len(pop)))\n",
        "    shuffle(random_order)\n",
        "\n",
        "    # Vyber prvniho jedince\n",
        "    best_idx = random_order[0]\n",
        " \n",
        "    # Turnaj se zbyvajicim poctem jedincu a ulozeni jedince s nejmensim score\n",
        "    for i in range(1, k):\n",
        "\n",
        "        if scores[random_order[i]] < scores[best_idx]:\n",
        "            best_idx = random_order[i]\n",
        "\n",
        "    return pop[best_idx]"
      ]
    },
    {
      "cell_type": "markdown",
      "metadata": {
        "id": "ieA-vHFew02k"
      },
      "source": [
        "*Vyzkoušejte další způsoby selekce probrané na přednáškách. (Náhodný výběr, váženou ruletu, rank order, elitismus...)*"
      ]
    },
    {
      "cell_type": "code",
      "execution_count": 57,
      "metadata": {
        "id": "OxGqdW-owiJT"
      },
      "outputs": [],
      "source": [
        "def your_selection(pop, scores, k=2):\n",
        "\n",
        "    # TODO\n",
        "    idx = random.randint(0, len(pop) - 1)\n",
        "    return pop[idx]\n",
        "\n",
        "def rulette(pop, scores, k=2):\n",
        "      max = sum([s for s in scores])\n",
        "      selection_probs = [s/max for s in scores]\n",
        "      return pop[npr.choice(len(pop), p=selection_probs)]\n",
        "\n",
        "def elite(pop, scores, k=2):\n",
        "      max_value = max(scores)\n",
        "      return pop[scores.index(max_value)]"
      ]
    },
    {
      "cell_type": "markdown",
      "metadata": {
        "id": "PQ_HWUK1CDd3"
      },
      "source": [
        "Křížení"
      ]
    },
    {
      "cell_type": "code",
      "execution_count": 12,
      "metadata": {
        "id": "ZzIDtDpxCEuZ"
      },
      "outputs": [],
      "source": [
        "def one_point_crossover(p1, p2, r_cross):\n",
        "\n",
        "    # Inicializace potomku\n",
        "    c1, c2 = p1.copy(), p2.copy()\n",
        "\n",
        "    # Zjisteni, zda se provede krizeni\n",
        "    if rand() < r_cross:\n",
        "        \n",
        "        # Vyber nekoncoveho mista krizeni\n",
        "        pt = randint(1, len(p1)-2)\n",
        "        \n",
        "        # Provedeni krizeni\n",
        "        c1 = p1[:pt] + p2[pt:]\n",
        "        c2 = p2[:pt] + p1[pt:]\n",
        "\n",
        "    return [c1, c2]"
      ]
    },
    {
      "cell_type": "markdown",
      "metadata": {
        "id": "kRBMHAShB4gO"
      },
      "source": [
        "*Vyzkoušejte další operátory křížení. (dvoubodové křížení, uniformní křížení...)*"
      ]
    },
    {
      "cell_type": "code",
      "execution_count": 38,
      "metadata": {
        "id": "Tjsbvn4cxWHJ"
      },
      "outputs": [],
      "source": [
        "def your_crossover(p1, p2, r_cross):\n",
        "    # TODO\n",
        "    c1, c2 = p1.copy(), p2.copy()\n",
        "    if rand() < r_cross:\n",
        "      pt1 = randint(1, len(p1) - (len(p1) / 2))\n",
        "      pt2 = randint(len(p1) - (len(p1) / 2) + 1, len(p1))\n",
        "      c1 = p1[:pt1] + p2[pt1:pt2] + p1[pt2:]\n",
        "      c1 = p2[:pt1] + p1[pt1:pt2] + p2[pt2:]\n",
        "    return [p1, p2]\n",
        "\n",
        "def uniform_crossover(p1, p2, r_cross):\n",
        "    c1, c2 = p1.copy(), p2.copy()\n",
        "    if rand() < r_cross:\n",
        "      for idx in range(0, len(p1) - 1):\n",
        "        prob = rand()\n",
        "        if prob < 0.5:\n",
        "          c1[idx] = p1[idx]\n",
        "          c2[idx] = p2[idx]\n",
        "        else:\n",
        "          c1[idx] = p2[idx]\n",
        "          c2[idx] = p1[idx]\n",
        "\n",
        "    return [c1, c2]"
      ]
    },
    {
      "cell_type": "markdown",
      "metadata": {
        "id": "UkN4qtPwCGF7"
      },
      "source": [
        "Mutace"
      ]
    },
    {
      "cell_type": "code",
      "execution_count": 14,
      "metadata": {
        "id": "QUPz0nbYCHCn"
      },
      "outputs": [],
      "source": [
        "def mutation(bitstring, r_mut):\n",
        "    \n",
        "    # Pruchod chromozome\n",
        "    for i in range(len(bitstring)):\n",
        "        \n",
        "        # Zjisteni, zda se provede mutace\n",
        "        if rand() < r_mut:\n",
        "            \n",
        "            # Obraceni bitu\n",
        "            bitstring[i] = 1 - bitstring[i]"
      ]
    },
    {
      "cell_type": "markdown",
      "metadata": {
        "id": "R0Kf-hMXCJjx"
      },
      "source": [
        "Genetický algoritmus"
      ]
    },
    {
      "cell_type": "code",
      "execution_count": 71,
      "metadata": {
        "id": "2PUKHqWuCLFD"
      },
      "outputs": [],
      "source": [
        "def genetic_algorithm(bounds, n_bits, n_iter, n_pop, r_cross, r_mut, target_values):\n",
        "\t\n",
        "    # Pocatecni populace nahodnych retezcu 0 a 1\n",
        "    pop = [randint(0, 2, n_bits*len(bounds)).tolist() for _ in range(n_pop)]\n",
        "\n",
        "    # Inicializace nejlepsich reseni\n",
        "    best = 0\n",
        "    best_eval = objective(decode(bounds, n_bits, pop[0]), target_values)\n",
        "    new_best = -1\n",
        "    best_history = []\n",
        "\n",
        "    # Evoluce\n",
        "    for gen in range(n_iter):\n",
        "\n",
        "        # Dekodovani populace\n",
        "        decoded = [decode(bounds, n_bits, p) for p in pop]\n",
        "\n",
        "        # Evaluace kandidatnich reseni\n",
        "        scores = [objective(d, target_values) for d in decoded]\n",
        "\n",
        "        # Nalezeni nejlepsiho reseni\n",
        "        for i in range(n_pop):\n",
        "            if scores[i] < best_eval:\n",
        "                best = pop[i]\n",
        "                best_eval = scores[i]\n",
        "                new_best = i\n",
        "\n",
        "        # Tisk informace o novem nejlepsim reseni\n",
        "        if new_best != -1:\n",
        "            print(\">%d, new best f(%s) = %0.30f\" % (gen,  decoded[new_best], scores[new_best]))\n",
        "            best_history.append([gen, scores[new_best]])\n",
        "            new_best = -1\n",
        "\n",
        "        # Vyber rodicu v poctu velikosti populace\n",
        "        # selected = [your_selection(pop, scores) for _ in range(n_pop)]\n",
        "        selected = [rulette(pop, scores) for _ in range(n_pop)]\n",
        "        # selected = [elite(pop, scores) for _ in range(n_pop)]\n",
        "\n",
        "        # Jedinci pristi generace\n",
        "        children = list()\n",
        "\n",
        "        for i in range(0, n_pop, 2):\n",
        "            \n",
        "            # Zvolni dvou predvybranych prvku\n",
        "            p1, p2 = selected[i], selected[i+1]\n",
        "\n",
        "            # Pripadne provedeni krizeni\n",
        "            for c in your_crossover(p1, p2, r_cross):\n",
        "\n",
        "                # Mutace jedincu\n",
        "                mutation(c, r_mut)\n",
        "\n",
        "                # Ulozeni jedincu do nove generace\n",
        "                children.append(c)\n",
        "\n",
        "        # Nahrazeni populace potomky\n",
        "        pop = children\n",
        "\n",
        "    return [best, best_eval, best_history]"
      ]
    },
    {
      "cell_type": "markdown",
      "metadata": {
        "id": "piw0757oCQl0"
      },
      "source": [
        "Hlavní tělo programu\n",
        "\n",
        "*Vyzkoušejt různá nastavení parametrů. Jak se změní chování programu s různými rozsahy proměnnýh, počtem iteací, velikostí populace...*"
      ]
    },
    {
      "cell_type": "code",
      "execution_count": 72,
      "metadata": {
        "colab": {
          "base_uri": "https://localhost:8080/",
          "height": 846
        },
        "id": "Gx1im1b0-ICr",
        "outputId": "af45798a-26fc-45cc-f7d0-6fd1d0debd44"
      },
      "outputs": [
        {
          "name": "stdout",
          "output_type": "stream",
          "text": [
            ">0, new best f([0.00010644237125783693, 0.00010934177112155594, 0.0006041195174626075, 0.00031122486881257497]) = 0.033356046445727073612719237872\n",
            ">53, new best f([0.00022952675955181475, 3.355569749418646e-06, 0.0006558410727690671, 0.0009915226158622886]) = 0.000569946114028160497576303012\n",
            ">0, new best f([0.0001901256388930604, 4.346528128264472e-05, 0.0005232525244261604, 0.0005005204883104655]) = 0.019437097310568522690044090950\n",
            ">56, new best f([7.415991184732411e-05, 8.409128015434835e-05, 6.999768384280614e-05, 0.0009915900603874586]) = 0.009272622445087301545907365607\n",
            ">58, new best f([7.43019876608858e-05, 6.932235508717131e-05, 5.795075900037773e-06, 0.000991648230565805]) = 0.006666448070090874242210610134\n",
            "Done!\n"
          ]
        },
        {
          "data": {
            "image/png": "[encoded data removed]",
            "text/plain": [
              "<Figure size 720x360 with 1 Axes>"
            ]
          },
          "metadata": {
            "needs_background": "light"
          },
          "output_type": "display_data"
        },
        {
          "name": "stdout",
          "output_type": "stream",
          "text": [
            "\n"
          ]
        },
        {
          "data": {
            "image/png": "[encoded data removed]",
            "text/plain": [
              "<Figure size 720x360 with 1 Axes>"
            ]
          },
          "metadata": {
            "needs_background": "light"
          },
          "output_type": "display_data"
        }
      ],
      "source": [
        "# Pocet behu programu\n",
        "n_runs = 2\n",
        "\n",
        "# Mozny rozsah jednotlivych hodnot\n",
        "bounds = [[0.1e-6, 0.1e-2], [0.1e-6, 0.1e-2], [0.1e-6, 0.1e-2], [0.1e-6, 0.1e-2]]\n",
        "\n",
        "# Pocet iteraci\n",
        "n_iter = 100\n",
        "\n",
        "# Bitu pro kazdou promennou\n",
        "n_bits = 32\n",
        "\n",
        "# Velikost populace\n",
        "n_pop = 10\n",
        "\n",
        "# Pravdepodobnost krizeni\n",
        "r_cross = 0.9\n",
        "\n",
        "# Pravdepodobnost mutace\n",
        "r_mut = 1.0 / (float(n_bits) * len(bounds)) \n",
        "\n",
        "# Nacteni cilovych hodnot proudu na kolektoru\n",
        "file = open('target_values', 'rb')\n",
        "target_values = pickle.load(file)\n",
        "\n",
        "# Provedeni genetickeho algoritmu\n",
        "results = [genetic_algorithm(bounds, n_bits, n_iter, n_pop, r_cross, r_mut, target_values) for _ in range(n_runs)]\n",
        "\n",
        "print('Done!')\n",
        "\n",
        "# Plot vyslednych vlastnostni navrzenych reseni\n",
        "figure, ax = plt.subplots(figsize=(10, 5))\n",
        "ax.plot([i/100 for i in range(0, 111)], target_values, label='Target')\n",
        "for i in range(len(results)):\n",
        "    ax.plot([i/100 for i in range(0, 111)], run_simulation(decode(bounds, n_bits, results[i][0])), label=f\"Run #{i}\")\n",
        "ax.legend()\n",
        "ax.grid()\n",
        "ax.set_xlabel('Vgs [V]')\n",
        "ax.set_ylabel('Id [mA]')\n",
        "plt.title('Krivka proudu na kolektoru v zavislosti na napeti gatu')\n",
        "plt.tight_layout()\n",
        "plt.show()\n",
        "\n",
        "print('')\n",
        "\n",
        "# Plot prubehu nejlepsich reseni jednotlivych behu\n",
        "figure, ax = plt.subplots(figsize=(10, 5))\n",
        "for i in range(len(results)):\n",
        "    ax.plot(*zip(*results[i][2]), label=f\"Run #{i}\")\n",
        "ax.legend()\n",
        "ax.grid()\n",
        "ax.set_xlabel('Generation')\n",
        "ax.set_ylabel('Error')\n",
        "plt.title('Prubeh chyby jednotlivych behu')\n",
        "plt.tight_layout()\n",
        "plt.show()"
      ]
    },
    {
      "cell_type": "markdown",
      "metadata": {
        "id": "bfQYPaNECZ7T"
      },
      "source": [
        "Autor:<br>\n",
        "Ing. Martin Hurta\n",
        "\n",
        "Použité zdroje:<br>\n",
        "https://machinelearningmastery.com/<br>\n",
        "https://pyspice.fabrice-salvaire.fr/<br>\n",
        "FROHN, M. Elektronika: polovodičové součástky a základní zapojení. Praha: BEN - technická literatura, 2006, 479 s. : il. ISBN 80-7300-123-3."
      ]
    },
    {
      "cell_type": "code",
      "execution_count": null,
      "metadata": {
        "id": "RrO8XIETiKGj"
      },
      "outputs": [],
      "source": []
    }
  ],
  "metadata": {
    "colab": {
      "provenance": []
    },
    "kernelspec": {
      "display_name": "Python 3.10.10 64-bit",
      "language": "python",
      "name": "python3"
    },
    "language_info": {
      "name": "python",
      "version": "3.10.10"
    },
    "vscode": {
      "interpreter": {
        "hash": "eda7e54fe21129b67f77862937907ee926f057597a3e2fa1e18ac955e40912b3"
      }
    }
  },
  "nbformat": 4,
  "nbformat_minor": 0
}
