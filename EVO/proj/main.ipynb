{
 "cells": [
  {
   "cell_type": "code",
   "execution_count": 7,
   "metadata": {},
   "outputs": [],
   "source": [
    "import copy\n",
    "import random\n",
    "import numpy as np\n",
    "\n",
    "from matplotlib import pyplot"
   ]
  },
  {
   "cell_type": "code",
   "execution_count": 56,
   "metadata": {},
   "outputs": [],
   "source": [
    "class SortingNetwork():\n",
    "    comparators = []\n",
    "    seen = set()\n",
    "\n",
    "    def objective(self, comps):\n",
    "        return len(comps)\n",
    "\n",
    "    def genPair(self, m, n):\n",
    "        for i in range(m, n):\n",
    "            for j in range(m, n):\n",
    "                if i == j:\n",
    "                    continue\n",
    "                self.comparators.append((i, j))\n",
    "\n",
    "    def __init__(self, arr) -> None:\n",
    "        self.genPair(0, len(arr))\n",
    "        self.arr = arr\n",
    "\n",
    "    def sort(self, comps):\n",
    "        if comps is None:\n",
    "            comps = self.comparators\n",
    "        arr = copy.deepcopy(self.arr)\n",
    "        for x, y in comps:\n",
    "            if x > y and arr[x] < arr[y]:\n",
    "                arr[x], arr[y] = arr[y], arr[x]\n",
    "            if x < y and arr[x] > arr[y]:\n",
    "                arr[x], arr[y] = arr[y], arr[x]\n",
    "        return arr\n",
    "\n",
    "    def simulated_annealing(self, n_iterations, temp):\n",
    "        best = self.comparators\n",
    "        comps = copy.deepcopy(self.comparators)\n",
    "        best_eval = self.objective(comps)\n",
    "        curr, curr_eval = best, best_eval\n",
    "        scores = []\n",
    "        for i in range(n_iterations):\n",
    "            selection = random.randint(0, len(comps)-1)\n",
    "            pop = comps.pop(selection)\n",
    "            candidate = comps\n",
    "            candidate_eval = self.objective(comps)\n",
    "            if candidate_eval < best_eval and sorted(self.arr) == self.sort(candidate):\n",
    "                best, best_eval = candidate, candidate_eval\n",
    "                scores.append(best_eval)\n",
    "                print('new best')\n",
    "            if sorted(self.arr) != self.sort(candidate):\n",
    "                comps.append(pop)\n",
    "            diff = candidate_eval - curr_eval\n",
    "            t = temp / float(i + 1)\n",
    "            metropolis = np.exp(-diff / t)\n",
    "            if diff > 0 or np.random.rand() < metropolis:\n",
    "                # store the new current point\n",
    "                curr, curr_eval = candidate, candidate_eval\n",
    "        return [best, best_eval, scores]"
   ]
  },
  {
   "cell_type": "code",
   "execution_count": 57,
   "metadata": {},
   "outputs": [],
   "source": [
    "arr = [10,9,8,7,6,5,4,3,2,1,0]\n",
    "network = SortingNetwork(arr)"
   ]
  },
  {
   "cell_type": "code",
   "execution_count": 64,
   "metadata": {},
   "outputs": [
    {
     "name": "stdout",
     "output_type": "stream",
     "text": [
      "[0, 1, 2, 3, 4, 5, 6, 7, 8, 9, 10]\n",
      "new best\n",
      "new best\n",
      "new best\n",
      "new best\n",
      "new best\n",
      "new best\n",
      "new best\n",
      "new best\n",
      "new best\n",
      "new best\n",
      "new best\n",
      "new best\n",
      "new best\n",
      "new best\n",
      "new best\n",
      "new best\n",
      "new best\n",
      "new best\n",
      "new best\n",
      "new best\n",
      "new best\n",
      "new best\n",
      "new best\n",
      "new best\n",
      "new best\n",
      "new best\n",
      "new best\n",
      "new best\n",
      "new best\n",
      "new best\n",
      "new best\n",
      "new best\n",
      "new best\n",
      "new best\n",
      "new best\n",
      "[0, 1, 2, 3, 4, 5, 6, 7, 8, 9, 10]\n"
     ]
    },
    {
     "data": {
      "image/png": "[encoded data removed]",
      "text/plain": [
       "<Figure size 640x480 with 1 Axes>"
      ]
     },
     "metadata": {},
     "output_type": "display_data"
    }
   ],
   "source": [
    "arr = network.sort(None)\n",
    "print(arr)\n",
    "best, score, scores = network.simulated_annealing(100, 10)\n",
    "print(network.sort(best))\n",
    "\n",
    "pyplot.plot(scores, '.-')\n",
    "pyplot.xlabel('Improvement Number')\n",
    "pyplot.ylabel('Evaluation f(x)')\n",
    "pyplot.show()"
   ]
  },
  {
   "cell_type": "code",
   "execution_count": null,
   "metadata": {},
   "outputs": [],
   "source": []
  },
  {
   "cell_type": "code",
   "execution_count": null,
   "metadata": {},
   "outputs": [],
   "source": []
  }
 ],
 "metadata": {
  "kernelspec": {
   "display_name": "Python 3.10.10 64-bit",
   "language": "python",
   "name": "python3"
  },
  "language_info": {
   "codemirror_mode": {
    "name": "ipython",
    "version": 3
   },
   "file_extension": ".py",
   "mimetype": "text/x-python",
   "name": "python",
   "nbconvert_exporter": "python",
   "pygments_lexer": "ipython3",
   "version": "3.10.0"
  },
  "orig_nbformat": 4,
  "vscode": {
   "interpreter": {
    "hash": "eda7e54fe21129b67f77862937907ee926f057597a3e2fa1e18ac955e40912b3"
   }
  }
 },
 "nbformat": 4,
 "nbformat_minor": 2
}
